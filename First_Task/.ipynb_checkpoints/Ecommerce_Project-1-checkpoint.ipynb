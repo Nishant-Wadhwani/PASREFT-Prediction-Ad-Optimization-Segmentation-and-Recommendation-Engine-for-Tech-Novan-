{
 "cells": [
  {
   "cell_type": "markdown",
   "metadata": {},
   "source": [
    "## Imports\n",
    "** Import pandas, numpy, matplotlib,and seaborn. Then set %matplotlib inline \n",
    "(You'll import sklearn as you need it.)**"
   ]
  },
  {
   "cell_type": "code",
   "execution_count": 1,
   "metadata": {},
   "outputs": [],
   "source": [
    "import pandas as pd\n",
    "import numpy as np\n",
    "import matplotlib.pyplot as plt\n",
    "import seaborn as sns\n",
    "%matplotlib inline"
   ]
  },
  {
   "cell_type": "code",
   "execution_count": 2,
   "metadata": {},
   "outputs": [],
   "source": [
    "customers = pd.read_csv(\"Ecommerce_TechNovan.csv\")"
   ]
  },
  {
   "cell_type": "markdown",
   "metadata": {},
   "source": [
    "**Check the head of customers, and check out its info() and describe() methods.**"
   ]
  },
  {
   "cell_type": "code",
   "execution_count": null,
   "metadata": {},
   "outputs": [],
   "source": []
  },
  {
   "cell_type": "code",
   "execution_count": null,
   "metadata": {},
   "outputs": [],
   "source": []
  },
  {
   "cell_type": "code",
   "execution_count": 3,
   "metadata": {},
   "outputs": [
    {
     "data": {
      "text/html": [
       "<div>\n",
       "<style scoped>\n",
       "    .dataframe tbody tr th:only-of-type {\n",
       "        vertical-align: middle;\n",
       "    }\n",
       "\n",
       "    .dataframe tbody tr th {\n",
       "        vertical-align: top;\n",
       "    }\n",
       "\n",
       "    .dataframe thead th {\n",
       "        text-align: right;\n",
       "    }\n",
       "</style>\n",
       "<table border=\"1\" class=\"dataframe\">\n",
       "  <thead>\n",
       "    <tr style=\"text-align: right;\">\n",
       "      <th></th>\n",
       "      <th>Email</th>\n",
       "      <th>Address</th>\n",
       "      <th>Avg. Session Length</th>\n",
       "      <th>Time on App</th>\n",
       "      <th>Time on Website</th>\n",
       "      <th>Length of Membership</th>\n",
       "      <th>Yearly Amount Spent</th>\n",
       "    </tr>\n",
       "  </thead>\n",
       "  <tbody>\n",
       "    <tr>\n",
       "      <th>0</th>\n",
       "      <td>mstephenson@fernandez.com</td>\n",
       "      <td>835 Frank Tunnel\\nWrightmouth, MI 82180-9605</td>\n",
       "      <td>34.497268</td>\n",
       "      <td>12.655651</td>\n",
       "      <td>39.577668</td>\n",
       "      <td>4.082621</td>\n",
       "      <td>587.951054</td>\n",
       "    </tr>\n",
       "    <tr>\n",
       "      <th>1</th>\n",
       "      <td>hduke@hotmail.com</td>\n",
       "      <td>4547 Archer Common\\nDiazchester, CA 06566-8576</td>\n",
       "      <td>31.926272</td>\n",
       "      <td>11.109461</td>\n",
       "      <td>37.268959</td>\n",
       "      <td>2.664034</td>\n",
       "      <td>392.204933</td>\n",
       "    </tr>\n",
       "    <tr>\n",
       "      <th>2</th>\n",
       "      <td>pallen@yahoo.com</td>\n",
       "      <td>24645 Valerie Unions Suite 582\\nCobbborough, D...</td>\n",
       "      <td>33.000915</td>\n",
       "      <td>11.330278</td>\n",
       "      <td>37.110597</td>\n",
       "      <td>4.104543</td>\n",
       "      <td>487.547505</td>\n",
       "    </tr>\n",
       "    <tr>\n",
       "      <th>3</th>\n",
       "      <td>riverarebecca@gmail.com</td>\n",
       "      <td>1414 David Throughway\\nPort Jason, OH 22070-1220</td>\n",
       "      <td>34.305557</td>\n",
       "      <td>13.717514</td>\n",
       "      <td>36.721283</td>\n",
       "      <td>3.120179</td>\n",
       "      <td>581.852344</td>\n",
       "    </tr>\n",
       "    <tr>\n",
       "      <th>4</th>\n",
       "      <td>mstephens@davidson-herman.com</td>\n",
       "      <td>14023 Rodriguez Passage\\nPort Jacobville, PR 3...</td>\n",
       "      <td>33.330673</td>\n",
       "      <td>12.795189</td>\n",
       "      <td>37.536653</td>\n",
       "      <td>4.446308</td>\n",
       "      <td>599.406092</td>\n",
       "    </tr>\n",
       "  </tbody>\n",
       "</table>\n",
       "</div>"
      ],
      "text/plain": [
       "                           Email  \\\n",
       "0      mstephenson@fernandez.com   \n",
       "1              hduke@hotmail.com   \n",
       "2               pallen@yahoo.com   \n",
       "3        riverarebecca@gmail.com   \n",
       "4  mstephens@davidson-herman.com   \n",
       "\n",
       "                                             Address  Avg. Session Length  \\\n",
       "0       835 Frank Tunnel\\nWrightmouth, MI 82180-9605            34.497268   \n",
       "1     4547 Archer Common\\nDiazchester, CA 06566-8576            31.926272   \n",
       "2  24645 Valerie Unions Suite 582\\nCobbborough, D...            33.000915   \n",
       "3   1414 David Throughway\\nPort Jason, OH 22070-1220            34.305557   \n",
       "4  14023 Rodriguez Passage\\nPort Jacobville, PR 3...            33.330673   \n",
       "\n",
       "   Time on App  Time on Website  Length of Membership  Yearly Amount Spent  \n",
       "0    12.655651        39.577668              4.082621           587.951054  \n",
       "1    11.109461        37.268959              2.664034           392.204933  \n",
       "2    11.330278        37.110597              4.104543           487.547505  \n",
       "3    13.717514        36.721283              3.120179           581.852344  \n",
       "4    12.795189        37.536653              4.446308           599.406092  "
      ]
     },
     "execution_count": 3,
     "metadata": {},
     "output_type": "execute_result"
    }
   ],
   "source": [
    "customers.head()"
   ]
  },
  {
   "cell_type": "code",
   "execution_count": 4,
   "metadata": {},
   "outputs": [
    {
     "data": {
      "text/html": [
       "<div>\n",
       "<style scoped>\n",
       "    .dataframe tbody tr th:only-of-type {\n",
       "        vertical-align: middle;\n",
       "    }\n",
       "\n",
       "    .dataframe tbody tr th {\n",
       "        vertical-align: top;\n",
       "    }\n",
       "\n",
       "    .dataframe thead th {\n",
       "        text-align: right;\n",
       "    }\n",
       "</style>\n",
       "<table border=\"1\" class=\"dataframe\">\n",
       "  <thead>\n",
       "    <tr style=\"text-align: right;\">\n",
       "      <th></th>\n",
       "      <th>Avg. Session Length</th>\n",
       "      <th>Time on App</th>\n",
       "      <th>Time on Website</th>\n",
       "      <th>Length of Membership</th>\n",
       "      <th>Yearly Amount Spent</th>\n",
       "    </tr>\n",
       "  </thead>\n",
       "  <tbody>\n",
       "    <tr>\n",
       "      <th>count</th>\n",
       "      <td>500.000000</td>\n",
       "      <td>500.000000</td>\n",
       "      <td>500.000000</td>\n",
       "      <td>500.000000</td>\n",
       "      <td>500.000000</td>\n",
       "    </tr>\n",
       "    <tr>\n",
       "      <th>mean</th>\n",
       "      <td>33.053194</td>\n",
       "      <td>12.052488</td>\n",
       "      <td>37.060445</td>\n",
       "      <td>3.533462</td>\n",
       "      <td>499.314038</td>\n",
       "    </tr>\n",
       "    <tr>\n",
       "      <th>std</th>\n",
       "      <td>0.992563</td>\n",
       "      <td>0.994216</td>\n",
       "      <td>1.010489</td>\n",
       "      <td>0.999278</td>\n",
       "      <td>79.314782</td>\n",
       "    </tr>\n",
       "    <tr>\n",
       "      <th>min</th>\n",
       "      <td>29.532429</td>\n",
       "      <td>8.508152</td>\n",
       "      <td>33.913847</td>\n",
       "      <td>0.269901</td>\n",
       "      <td>256.670582</td>\n",
       "    </tr>\n",
       "    <tr>\n",
       "      <th>25%</th>\n",
       "      <td>32.341822</td>\n",
       "      <td>11.388153</td>\n",
       "      <td>36.349257</td>\n",
       "      <td>2.930450</td>\n",
       "      <td>445.038277</td>\n",
       "    </tr>\n",
       "    <tr>\n",
       "      <th>50%</th>\n",
       "      <td>33.082008</td>\n",
       "      <td>11.983231</td>\n",
       "      <td>37.069367</td>\n",
       "      <td>3.533975</td>\n",
       "      <td>498.887875</td>\n",
       "    </tr>\n",
       "    <tr>\n",
       "      <th>75%</th>\n",
       "      <td>33.711985</td>\n",
       "      <td>12.753850</td>\n",
       "      <td>37.716432</td>\n",
       "      <td>4.126502</td>\n",
       "      <td>549.313828</td>\n",
       "    </tr>\n",
       "    <tr>\n",
       "      <th>max</th>\n",
       "      <td>36.139662</td>\n",
       "      <td>15.126994</td>\n",
       "      <td>40.005182</td>\n",
       "      <td>6.922689</td>\n",
       "      <td>765.518462</td>\n",
       "    </tr>\n",
       "  </tbody>\n",
       "</table>\n",
       "</div>"
      ],
      "text/plain": [
       "       Avg. Session Length  Time on App  Time on Website  \\\n",
       "count           500.000000   500.000000       500.000000   \n",
       "mean             33.053194    12.052488        37.060445   \n",
       "std               0.992563     0.994216         1.010489   \n",
       "min              29.532429     8.508152        33.913847   \n",
       "25%              32.341822    11.388153        36.349257   \n",
       "50%              33.082008    11.983231        37.069367   \n",
       "75%              33.711985    12.753850        37.716432   \n",
       "max              36.139662    15.126994        40.005182   \n",
       "\n",
       "       Length of Membership  Yearly Amount Spent  \n",
       "count            500.000000           500.000000  \n",
       "mean               3.533462           499.314038  \n",
       "std                0.999278            79.314782  \n",
       "min                0.269901           256.670582  \n",
       "25%                2.930450           445.038277  \n",
       "50%                3.533975           498.887875  \n",
       "75%                4.126502           549.313828  \n",
       "max                6.922689           765.518462  "
      ]
     },
     "execution_count": 4,
     "metadata": {},
     "output_type": "execute_result"
    }
   ],
   "source": [
    "customers.describe()"
   ]
  },
  {
   "cell_type": "code",
   "execution_count": 5,
   "metadata": {},
   "outputs": [
    {
     "name": "stdout",
     "output_type": "stream",
     "text": [
      "<class 'pandas.core.frame.DataFrame'>\n",
      "RangeIndex: 500 entries, 0 to 499\n",
      "Data columns (total 7 columns):\n",
      " #   Column                Non-Null Count  Dtype  \n",
      "---  ------                --------------  -----  \n",
      " 0   Email                 500 non-null    object \n",
      " 1   Address               500 non-null    object \n",
      " 2   Avg. Session Length   500 non-null    float64\n",
      " 3   Time on App           500 non-null    float64\n",
      " 4   Time on Website       500 non-null    float64\n",
      " 5   Length of Membership  500 non-null    float64\n",
      " 6   Yearly Amount Spent   500 non-null    float64\n",
      "dtypes: float64(5), object(2)\n",
      "memory usage: 27.5+ KB\n"
     ]
    }
   ],
   "source": [
    "customers.info()"
   ]
  },
  {
   "cell_type": "markdown",
   "metadata": {},
   "source": [
    "## Exploratory Data Analysis\n",
    "\n",
    "**Let's explore the data!**\n",
    "\n",
    "For the rest of the exercise we'll only be using the numerical data of the csv file.\n",
    "___\n",
    "**Use seaborn to create a jointplot to compare the Time on Website and Yearly Amount Spent columns. Does the correlation make sense?**"
   ]
  },
  {
   "cell_type": "code",
   "execution_count": 6,
   "metadata": {},
   "outputs": [],
   "source": [
    "sns.set_palette(\"GnBu_d\")\n",
    "sns.set_style('whitegrid')"
   ]
  },
  {
   "cell_type": "code",
   "execution_count": 7,
   "metadata": {},
   "outputs": [
    {
     "data": {
      "text/plain": [
       "<seaborn.axisgrid.JointGrid at 0x7f5d640a5f10>"
      ]
     },
     "execution_count": 7,
     "metadata": {},
     "output_type": "execute_result"
    },
    {
     "data": {
      "image/png": "[encoded data removed]",
      "text/plain": [
       "<Figure size 432x432 with 3 Axes>"
      ]
     },
     "metadata": {},
     "output_type": "display_data"
    }
   ],
   "source": [
    "# More time on site, more money spent.\n",
    "sns.jointplot(x='Time on Website',y='Yearly Amount Spent',data=customers)"
   ]
  },
  {
   "cell_type": "markdown",
   "metadata": {},
   "source": [
    "** Do the same but with the Time on App column instead. **"
   ]
  },
  {
   "cell_type": "code",
   "execution_count": 8,
   "metadata": {},
   "outputs": [
    {
     "data": {
      "text/plain": [
       "<seaborn.axisgrid.JointGrid at 0x7f5d1cf79970>"
      ]
     },
     "execution_count": 8,
     "metadata": {},
     "output_type": "execute_result"
    },
    {
     "data": {
      "image/png": "[encoded data removed]",
      "text/plain": [
       "<Figure size 432x432 with 3 Axes>"
      ]
     },
     "metadata": {},
     "output_type": "display_data"
    }
   ],
   "source": [
    "sns.jointplot(x='Time on App',y='Yearly Amount Spent',data=customers)"
   ]
  },
  {
   "cell_type": "markdown",
   "metadata": {},
   "source": [
    "** Use jointplot to create a 2D hex bin plot comparing Time on App and Length of Membership.**"
   ]
  },
  {
   "cell_type": "code",
   "execution_count": 9,
   "metadata": {},
   "outputs": [
    {
     "data": {
      "text/plain": [
       "<seaborn.axisgrid.JointGrid at 0x7f5d1acd9670>"
      ]
     },
     "execution_count": 9,
     "metadata": {},
     "output_type": "execute_result"
    },
    {
     "data": {
      "image/png": "[encoded data removed]",
      "text/plain": [
       "<Figure size 432x432 with 3 Axes>"
      ]
     },
     "metadata": {},
     "output_type": "display_data"
    }
   ],
   "source": [
    "sns.jointplot(x='Time on App',y='Length of Membership',kind='hex',data=customers)"
   ]
  },
  {
   "cell_type": "markdown",
   "metadata": {},
   "source": [
    "**Let's explore these types of relationships across the entire data set. Use [pairplot](https://stanford.edu/~mwaskom/software/seaborn/tutorial/axis_grids.html#plotting-pairwise-relationships-with-pairgrid-and-pairplot) to recreate the plot below.(Don't worry about the the colors)**"
   ]
  },
  {
   "cell_type": "code",
   "execution_count": 10,
   "metadata": {},
   "outputs": [
    {
     "data": {
      "text/plain": [
       "<seaborn.axisgrid.PairGrid at 0x7f5d1ac1f5b0>"
      ]
     },
     "execution_count": 10,
     "metadata": {},
     "output_type": "execute_result"
    },
    {
     "data": {
      "image/png": "[encoded data removed]",
      "text/plain": [
       "<Figure size 900x900 with 30 Axes>"
      ]
     },
     "metadata": {},
     "output_type": "display_data"
    }
   ],
   "source": [
    "sns.pairplot(customers)"
   ]
  },
  {
   "cell_type": "markdown",
   "metadata": {},
   "source": [
    "**Based off this plot what looks to be the most correlated feature with Yearly Amount Spent?**"
   ]
  },
  {
   "cell_type": "code",
   "execution_count": 11,
   "metadata": {},
   "outputs": [],
   "source": [
    "# Length of Membership "
   ]
  },
  {
   "cell_type": "code",
   "execution_count": 12,
   "metadata": {},
   "outputs": [
    {
     "data": {
      "text/plain": [
       "<AxesSubplot:>"
      ]
     },
     "execution_count": 12,
     "metadata": {},
     "output_type": "execute_result"
    },
    {
     "data": {
      "image/png": "[encoded data removed]",
      "text/plain": [
       "<Figure size 432x288 with 2 Axes>"
      ]
     },
     "metadata": {},
     "output_type": "display_data"
    }
   ],
   "source": [
    "corr=customers.iloc[:,3:].corr() \n",
    "columns=corr.columns \n",
    "sns.heatmap(corr,annot=True)"
   ]
  },
  {
   "cell_type": "markdown",
   "metadata": {},
   "source": [
    "**Create a linear model plot (using seaborn's lmplot) of  Yearly Amount Spent vs. Length of Membership. **"
   ]
  },
  {
   "cell_type": "code",
   "execution_count": 13,
   "metadata": {},
   "outputs": [
    {
     "data": {
      "text/plain": [
       "<seaborn.axisgrid.FacetGrid at 0x7f5d19fb9580>"
      ]
     },
     "execution_count": 13,
     "metadata": {},
     "output_type": "execute_result"
    },
    {
     "data": {
      "image/png": "[encoded data removed]",
      "text/plain": [
       "<Figure size 360x360 with 1 Axes>"
      ]
     },
     "metadata": {},
     "output_type": "display_data"
    }
   ],
   "source": [
    "sns.lmplot(x='Length of Membership',y='Yearly Amount Spent',data=customers)"
   ]
  },
  {
   "cell_type": "markdown",
   "metadata": {},
   "source": [
    "## Training and Testing Data\n",
    "\n",
    "Now that we've explored the data a bit, let's go ahead and split the data into training and testing sets.\n",
    "** Set a variable X equal to the numerical features of the customers and a variable y equal to the \"Yearly Amount Spent\" column. **"
   ]
  },
  {
   "cell_type": "code",
   "execution_count": 14,
   "metadata": {},
   "outputs": [],
   "source": [
    "y = customers['Yearly Amount Spent'].values"
   ]
  },
  {
   "cell_type": "code",
   "execution_count": 15,
   "metadata": {},
   "outputs": [],
   "source": [
    "X = customers[['Avg. Session Length', 'Time on App','Time on Website', 'Length of Membership']].values"
   ]
  },
  {
   "cell_type": "code",
   "execution_count": 16,
   "metadata": {},
   "outputs": [],
   "source": [
    "from sklearn.model_selection import train_test_split"
   ]
  },
  {
   "cell_type": "code",
   "execution_count": 17,
   "metadata": {},
   "outputs": [],
   "source": [
    "X_train, X_test, y_train, y_test = train_test_split(X, y, test_size=0.2, random_state=0)"
   ]
  },
  {
   "cell_type": "markdown",
   "metadata": {},
   "source": [
    "## Training the Model\n",
    "\n",
    "Now its time to train our model on our training data!\n",
    "\n",
    "** Import LinearRegression from sklearn.linear_model **"
   ]
  },
  {
   "cell_type": "code",
   "execution_count": 18,
   "metadata": {},
   "outputs": [],
   "source": [
    "#Multiple-Linear_Regression Approach"
   ]
  },
  {
   "cell_type": "code",
   "execution_count": 19,
   "metadata": {},
   "outputs": [],
   "source": [
    "from sklearn.linear_model import LinearRegression"
   ]
  },
  {
   "cell_type": "markdown",
   "metadata": {},
   "source": [
    "**Create an instance of a LinearRegression() model named lm.**"
   ]
  },
  {
   "cell_type": "code",
   "execution_count": 20,
   "metadata": {},
   "outputs": [],
   "source": [
    "lm = LinearRegression()"
   ]
  },
  {
   "cell_type": "markdown",
   "metadata": {},
   "source": [
    "** Train/fit lm on the training data.**"
   ]
  },
  {
   "cell_type": "code",
   "execution_count": 21,
   "metadata": {},
   "outputs": [
    {
     "data": {
      "text/plain": [
       "LinearRegression()"
      ]
     },
     "execution_count": 21,
     "metadata": {},
     "output_type": "execute_result"
    }
   ],
   "source": [
    "lm.fit(X_train,y_train)"
   ]
  },
  {
   "cell_type": "markdown",
   "metadata": {},
   "source": [
    "**Print out the coefficients of the model**"
   ]
  },
  {
   "cell_type": "code",
   "execution_count": 22,
   "metadata": {},
   "outputs": [
    {
     "name": "stdout",
     "output_type": "stream",
     "text": [
      "Coefficients: \n",
      " [25.88815047 38.87046474  0.47066154 61.78369022]\n"
     ]
    }
   ],
   "source": [
    "# The coefficients\n",
    "print('Coefficients: \\n', lm.coef_)"
   ]
  },
  {
   "cell_type": "markdown",
   "metadata": {},
   "source": [
    "## Predicting Test Data\n",
    "Now that we have fit our model, let's evaluate its performance by predicting off the test values!\n",
    "\n",
    "** Use lm.predict() to predict off the X_test set of the data.**"
   ]
  },
  {
   "cell_type": "code",
   "execution_count": 23,
   "metadata": {},
   "outputs": [
    {
     "name": "stdout",
     "output_type": "stream",
     "text": [
      "[[438.46 449.07]\n",
      " [489.66 482.6 ]\n",
      " [370.07 374.27]\n",
      " [513.86 513.15]\n",
      " [495.7  502.77]\n",
      " [450.89 461.78]\n",
      " [458.01 466.42]\n",
      " [336.67 327.38]\n",
      " [528.52 528.22]\n",
      " [663.28 657.02]\n",
      " [559.42 571.47]\n",
      " [526.02 523.63]\n",
      " [552.21 546.56]\n",
      " [457.68 467.43]\n",
      " [450.16 439.89]\n",
      " [431.65 445.06]\n",
      " [563.59 553.99]\n",
      " [408.35 403.77]\n",
      " [599.62 595.8 ]\n",
      " [486.85 490.74]\n",
      " [716.65 712.4 ]\n",
      " [496.79 502.09]\n",
      " [411.5  398.16]\n",
      " [556.55 570.45]\n",
      " [551.85 549.86]\n",
      " [398.18 392.99]\n",
      " [421.31 419.94]\n",
      " [395.15 407.66]\n",
      " [548.53 521.14]\n",
      " [463.49 463.75]\n",
      " [558.44 556.3 ]\n",
      " [505.53 506.55]\n",
      " [505.88 514.34]\n",
      " [463.95 476.77]\n",
      " [425.98 418.6 ]\n",
      " [401.07 403.82]\n",
      " [503.6  506.13]\n",
      " [430.34 436.72]\n",
      " [569.63 558.95]\n",
      " [421.89 421.33]\n",
      " [487.27 478.26]\n",
      " [602.37 593.92]\n",
      " [616.45 632.12]\n",
      " [589.39 591.44]\n",
      " [449.73 444.29]\n",
      " [379.93 392.2 ]\n",
      " [558.17 558.43]\n",
      " [462.72 447.19]\n",
      " [502.17 475.73]\n",
      " [401.43 420.74]\n",
      " [523.85 527.78]\n",
      " [416.8  421.97]\n",
      " [576.87 576.03]\n",
      " [478.5  460.06]\n",
      " [457.25 452.63]\n",
      " [397.68 408.64]\n",
      " [564.87 557.25]\n",
      " [305.13 298.76]\n",
      " [562.63 555.07]\n",
      " [476.33 486.08]\n",
      " [499.04 488.79]\n",
      " [433.99 423.31]\n",
      " [463.72 458.78]\n",
      " [576.92 574.42]\n",
      " [504.   489.91]\n",
      " [356.62 352.55]\n",
      " [508.85 492.61]\n",
      " [416.95 427.36]\n",
      " [634.98 628.05]\n",
      " [455.89 478.72]\n",
      " [451.9  463.92]\n",
      " [767.06 765.52]\n",
      " [518.97 501.12]\n",
      " [457.35 462.66]\n",
      " [379.86 373.89]\n",
      " [375.88 384.33]\n",
      " [598.73 614.73]\n",
      " [515.75 518.06]\n",
      " [513.36 510.5 ]\n",
      " [429.46 432.72]\n",
      " [491.12 473.95]\n",
      " [491.59 501.21]\n",
      " [532.49 535.32]\n",
      " [494.43 496.93]\n",
      " [441.61 442.06]\n",
      " [507.24 505.23]\n",
      " [558.93 544.41]\n",
      " [753.44 744.22]\n",
      " [395.92 392.81]\n",
      " [516.98 522.4 ]\n",
      " [518.31 519.37]\n",
      " [523.33 528.42]\n",
      " [384.29 385.1 ]\n",
      " [486.28 504.87]\n",
      " [505.1  501.1 ]\n",
      " [383.74 385.15]\n",
      " [524.17 520.9 ]\n",
      " [500.68 499.14]\n",
      " [606.79 616.85]\n",
      " [408.81 412.01]]\n"
     ]
    }
   ],
   "source": [
    "y_pred = lm.predict(X_test)\n",
    "np.set_printoptions(precision=2)\n",
    "print(np.concatenate((y_pred.reshape(len(y_pred),1), y_test.reshape(len(y_test),1)),1))"
   ]
  },
  {
   "cell_type": "markdown",
   "metadata": {},
   "source": [
    "** Create a scatterplot of the real test values versus the predicted values. **"
   ]
  },
  {
   "cell_type": "code",
   "execution_count": 24,
   "metadata": {},
   "outputs": [
    {
     "data": {
      "text/plain": [
       "Text(0, 0.5, 'Predicted Y')"
      ]
     },
     "execution_count": 24,
     "metadata": {},
     "output_type": "execute_result"
    },
    {
     "data": {
      "image/png": "[encoded data removed]",
      "text/plain": [
       "<Figure size 432x288 with 1 Axes>"
      ]
     },
     "metadata": {},
     "output_type": "display_data"
    }
   ],
   "source": [
    "plt.scatter(y_test,y_pred)\n",
    "plt.xlabel('Y Test')\n",
    "plt.ylabel('Predicted Y')"
   ]
  },
  {
   "cell_type": "markdown",
   "metadata": {},
   "source": [
    "## Evaluating the Model\n",
    "\n",
    "Let's evaluate our model performance by calculating the residual sum of squares and the explained variance score (R^2).\n",
    "\n",
    "** Calculate the Mean Absolute Error, Mean Squared Error, and the Root Mean Squared Error. Refer to the lecture or to Wikipedia for the formulas**"
   ]
  },
  {
   "cell_type": "code",
   "execution_count": 30,
   "metadata": {},
   "outputs": [
    {
     "name": "stdout",
     "output_type": "stream",
     "text": [
      "MAE: 7.645674798915309\n",
      "MSE: 92.89010304498535\n",
      "RMSE: 9.637951185028141\n"
     ]
    },
    {
     "data": {
      "text/plain": [
       "0.9861924261981547"
      ]
     },
     "execution_count": 30,
     "metadata": {},
     "output_type": "execute_result"
    }
   ],
   "source": [
    "# calculate these metrics by hand!\n",
    "from sklearn import metrics\n",
    "\n",
    "print('MAE:', metrics.mean_absolute_error(y_test, y_pred))\n",
    "print('MSE:', metrics.mean_squared_error(y_test, y_pred))\n",
    "print('RMSE:', np.sqrt(metrics.mean_squared_error(y_test, y_pred)))\n",
    "from sklearn.metrics import r2_score\n",
    "r2_score = r2_score(y_test, y_pred)\n",
    "r2_score"
   ]
  },
  {
   "cell_type": "code",
   "execution_count": 32,
   "metadata": {},
   "outputs": [
    {
     "data": {
      "text/plain": [
       "0.9860808498442004"
      ]
     },
     "execution_count": 32,
     "metadata": {},
     "output_type": "execute_result"
    }
   ],
   "source": [
    "adj_r2 = 1-(1-r2_score)*((len(y)-1)/(len(y)-X.shape[1]-1))\n",
    "adj_r2"
   ]
  },
  {
   "cell_type": "code",
   "execution_count": null,
   "metadata": {},
   "outputs": [],
   "source": []
  },
  {
   "cell_type": "code",
   "execution_count": 33,
   "metadata": {
    "scrolled": true
   },
   "outputs": [
    {
     "name": "stdout",
     "output_type": "stream",
     "text": [
      "R2_Score: 98.28 %\n",
      "Standard Deviation: 0.23 %\n"
     ]
    }
   ],
   "source": [
    "#K-Cross Validation\n",
    "from sklearn.model_selection import cross_val_score\n",
    "r2_scores = cross_val_score(estimator = lm, X = X_train, y = y_train, scoring='r2',cv = 10)\n",
    "print(\"R2_Score: {:.2f} %\".format(r2_scores.mean()*100))\n",
    "print(\"Standard Deviation: {:.2f} %\".format(r2_scores.std()*100))"
   ]
  },
  {
   "cell_type": "markdown",
   "metadata": {},
   "source": [
    "## Residuals\n",
    "\n",
    "You should have gotten a very good model with a good fit. Let's quickly explore the residuals to make sure everything was okay with our data. \n",
    "\n",
    "**Plot a histogram of the residuals and make sure it looks normally distributed. Use either seaborn distplot, or just plt.hist().**"
   ]
  },
  {
   "cell_type": "code",
   "execution_count": 34,
   "metadata": {},
   "outputs": [
    {
     "name": "stderr",
     "output_type": "stream",
     "text": [
      "/home/nishant/anaconda3/lib/python3.8/site-packages/seaborn/distributions.py:2557: FutureWarning: `distplot` is a deprecated function and will be removed in a future version. Please adapt your code to use either `displot` (a figure-level function with similar flexibility) or `histplot` (an axes-level function for histograms).\n",
      "  warnings.warn(msg, FutureWarning)\n"
     ]
    },
    {
     "data": {
      "image/png": "[encoded data removed]",
      "text/plain": [
       "<Figure size 432x288 with 1 Axes>"
      ]
     },
     "metadata": {},
     "output_type": "display_data"
    }
   ],
   "source": [
    "sns.distplot((y_test-y_pred),bins=50);"
   ]
  },
  {
   "cell_type": "markdown",
   "metadata": {},
   "source": [
    "## Conclusion\n",
    "We still want to figure out the answer to the original question, do we focus our efforst on mobile app or website development? Or maybe that doesn't even really matter, and Membership Time is what is really important.  Let's see if we can interpret the coefficients at all to get an idea.\n",
    "\n",
    "** Recreate the dataframe below. **"
   ]
  },
  {
   "cell_type": "code",
   "execution_count": 35,
   "metadata": {},
   "outputs": [
    {
     "data": {
      "text/html": [
       "<div>\n",
       "<style scoped>\n",
       "    .dataframe tbody tr th:only-of-type {\n",
       "        vertical-align: middle;\n",
       "    }\n",
       "\n",
       "    .dataframe tbody tr th {\n",
       "        vertical-align: top;\n",
       "    }\n",
       "\n",
       "    .dataframe thead th {\n",
       "        text-align: right;\n",
       "    }\n",
       "</style>\n",
       "<table border=\"1\" class=\"dataframe\">\n",
       "  <thead>\n",
       "    <tr style=\"text-align: right;\">\n",
       "      <th></th>\n",
       "      <th>Coeffecient</th>\n",
       "    </tr>\n",
       "  </thead>\n",
       "  <tbody>\n",
       "    <tr>\n",
       "      <th>Avg. Session Length</th>\n",
       "      <td>25.888150</td>\n",
       "    </tr>\n",
       "    <tr>\n",
       "      <th>Time on App</th>\n",
       "      <td>38.870465</td>\n",
       "    </tr>\n",
       "    <tr>\n",
       "      <th>Time on Website</th>\n",
       "      <td>0.470662</td>\n",
       "    </tr>\n",
       "    <tr>\n",
       "      <th>Length of Membership</th>\n",
       "      <td>61.783690</td>\n",
       "    </tr>\n",
       "  </tbody>\n",
       "</table>\n",
       "</div>"
      ],
      "text/plain": [
       "                      Coeffecient\n",
       "Avg. Session Length     25.888150\n",
       "Time on App             38.870465\n",
       "Time on Website          0.470662\n",
       "Length of Membership    61.783690"
      ]
     },
     "execution_count": 35,
     "metadata": {},
     "output_type": "execute_result"
    }
   ],
   "source": [
    "X = customers[['Avg. Session Length', 'Time on App','Time on Website', 'Length of Membership']]\n",
    "coeffecients = pd.DataFrame(lm.coef_,X.columns)\n",
    "coeffecients.columns = ['Coeffecient']\n",
    "coeffecients"
   ]
  },
  {
   "cell_type": "markdown",
   "metadata": {},
   "source": [
    "** How can you interpret these coefficients? **"
   ]
  },
  {
   "cell_type": "markdown",
   "metadata": {},
   "source": [
    "Interpreting the coefficients:\n",
    "\n",
    "- Holding all other features fixed, a 1 unit increase in **Avg. Session Length** is associated with an **increase of 25.98 total dollars spent**.\n",
    "- Holding all other features fixed, a 1 unit increase in **Time on App** is associated with an **increase of 38.59 total dollars spent**.\n",
    "- Holding all other features fixed, a 1 unit increase in **Time on Website** is associated with an **increase of 0.19 total dollars spent**.\n",
    "- Holding all other features fixed, a 1 unit increase in **Length of Membership** is associated with an **increase of 61.27 total dollars spent**."
   ]
  },
  {
   "cell_type": "markdown",
   "metadata": {},
   "source": [
    "**Do you think the company should focus more on their mobile app or on their website?**"
   ]
  },
  {
   "cell_type": "markdown",
   "metadata": {},
   "source": [
    "\n",
    "This is tricky, there are two ways to think about this: Develop the Website to catch up to the performance of the mobile app, or develop the app more since that is what is working better. This sort of answer really depends on the other factors going on at the company, you would probably want to explore the relationship between Length of Membership and the App or the Website before coming to a conclusion!\n"
   ]
  },
  {
   "cell_type": "code",
   "execution_count": 36,
   "metadata": {},
   "outputs": [],
   "source": [
    "#Polynomial Regression Approach"
   ]
  },
  {
   "cell_type": "code",
   "execution_count": 37,
   "metadata": {},
   "outputs": [],
   "source": [
    "y = customers['Yearly Amount Spent'].values\n",
    "X = customers[['Avg. Session Length', 'Time on App','Time on Website', 'Length of Membership']].values\n",
    "from sklearn.model_selection import train_test_split\n",
    "X_train, X_test, y_train, y_test = train_test_split(X, y, test_size=0.2, random_state=0)"
   ]
  },
  {
   "cell_type": "code",
   "execution_count": 38,
   "metadata": {},
   "outputs": [
    {
     "data": {
      "text/plain": [
       "LinearRegression()"
      ]
     },
     "execution_count": 38,
     "metadata": {},
     "output_type": "execute_result"
    }
   ],
   "source": [
    "from sklearn.preprocessing import PolynomialFeatures\n",
    "from sklearn.linear_model import LinearRegression\n",
    "poly_reg = PolynomialFeatures(degree = 4)\n",
    "X_poly = poly_reg.fit_transform(X_train)\n",
    "regressor1 = LinearRegression()\n",
    "regressor1.fit(X_poly, y_train)"
   ]
  },
  {
   "cell_type": "code",
   "execution_count": 39,
   "metadata": {},
   "outputs": [
    {
     "name": "stdout",
     "output_type": "stream",
     "text": [
      "[[442.12 449.07]\n",
      " [488.87 482.6 ]\n",
      " [363.88 374.27]\n",
      " [514.45 513.15]\n",
      " [497.08 502.77]\n",
      " [444.88 461.78]\n",
      " [460.49 466.42]\n",
      " [337.17 327.38]\n",
      " [528.86 528.22]\n",
      " [680.78 657.02]\n",
      " [557.72 571.47]\n",
      " [524.57 523.63]\n",
      " [549.74 546.56]\n",
      " [449.19 467.43]\n",
      " [454.37 439.89]\n",
      " [435.73 445.06]\n",
      " [564.66 553.99]\n",
      " [399.45 403.77]\n",
      " [599.25 595.8 ]\n",
      " [486.46 490.74]\n",
      " [697.5  712.4 ]\n",
      " [496.16 502.09]\n",
      " [411.06 398.16]\n",
      " [555.96 570.45]\n",
      " [550.87 549.86]\n",
      " [399.06 392.99]\n",
      " [425.1  419.94]\n",
      " [387.61 407.66]\n",
      " [550.94 521.14]\n",
      " [463.34 463.75]\n",
      " [559.91 556.3 ]\n",
      " [503.05 506.55]\n",
      " [506.08 514.34]\n",
      " [463.51 476.77]\n",
      " [428.65 418.6 ]\n",
      " [404.54 403.82]\n",
      " [501.8  506.13]\n",
      " [426.13 436.72]\n",
      " [568.54 558.95]\n",
      " [422.71 421.33]\n",
      " [487.99 478.26]\n",
      " [600.38 593.92]\n",
      " [610.55 632.12]\n",
      " [595.84 591.44]\n",
      " [446.61 444.29]\n",
      " [377.72 392.2 ]\n",
      " [563.39 558.43]\n",
      " [463.74 447.19]\n",
      " [500.37 475.73]\n",
      " [401.82 420.74]\n",
      " [527.05 527.78]\n",
      " [416.83 421.97]\n",
      " [573.33 576.03]\n",
      " [481.34 460.06]\n",
      " [454.39 452.63]\n",
      " [462.66 408.64]\n",
      " [573.6  557.25]\n",
      " [310.52 298.76]\n",
      " [565.71 555.07]\n",
      " [476.26 486.08]\n",
      " [493.24 488.79]\n",
      " [434.94 423.31]\n",
      " [470.47 458.78]\n",
      " [579.98 574.42]\n",
      " [508.68 489.91]\n",
      " [360.85 352.55]\n",
      " [510.27 492.61]\n",
      " [422.42 427.36]\n",
      " [633.79 628.05]\n",
      " [455.04 478.72]\n",
      " [452.83 463.92]\n",
      " [779.68 765.52]\n",
      " [521.6  501.12]\n",
      " [456.97 462.66]\n",
      " [384.61 373.89]\n",
      " [376.73 384.33]\n",
      " [596.92 614.73]\n",
      " [517.42 518.06]\n",
      " [512.06 510.5 ]\n",
      " [427.49 432.72]\n",
      " [489.02 473.95]\n",
      " [489.1  501.21]\n",
      " [534.03 535.32]\n",
      " [497.39 496.93]\n",
      " [456.27 442.06]\n",
      " [503.01 505.23]\n",
      " [557.83 544.41]\n",
      " [707.64 744.22]\n",
      " [401.07 392.81]\n",
      " [515.7  522.4 ]\n",
      " [520.12 519.37]\n",
      " [526.27 528.42]\n",
      " [385.11 385.1 ]\n",
      " [483.86 504.87]\n",
      " [506.44 501.1 ]\n",
      " [381.23 385.15]\n",
      " [527.66 520.9 ]\n",
      " [500.13 499.14]\n",
      " [607.84 616.85]\n",
      " [402.04 412.01]]\n"
     ]
    }
   ],
   "source": [
    "y_pred1 = regressor1.predict(poly_reg.transform(X_test))\n",
    "np.set_printoptions(precision=2)\n",
    "print(np.concatenate((y_pred1.reshape(len(y_pred1),1), y_test.reshape(len(y_test),1)),1))"
   ]
  },
  {
   "cell_type": "code",
   "execution_count": 40,
   "metadata": {},
   "outputs": [
    {
     "data": {
      "text/plain": [
       "Text(0, 0.5, 'Predicted Y')"
      ]
     },
     "execution_count": 40,
     "metadata": {},
     "output_type": "execute_result"
    },
    {
     "data": {
      "image/png": "[encoded data removed]",
      "text/plain": [
       "<Figure size 432x288 with 1 Axes>"
      ]
     },
     "metadata": {},
     "output_type": "display_data"
    }
   ],
   "source": [
    "plt.scatter(y_test,y_pred1)\n",
    "plt.xlabel('Y Test')\n",
    "plt.ylabel('Predicted Y')"
   ]
  },
  {
   "cell_type": "code",
   "execution_count": 41,
   "metadata": {},
   "outputs": [
    {
     "name": "stderr",
     "output_type": "stream",
     "text": [
      "/home/nishant/anaconda3/lib/python3.8/site-packages/seaborn/distributions.py:2557: FutureWarning: `distplot` is a deprecated function and will be removed in a future version. Please adapt your code to use either `displot` (a figure-level function with similar flexibility) or `histplot` (an axes-level function for histograms).\n",
      "  warnings.warn(msg, FutureWarning)\n"
     ]
    },
    {
     "data": {
      "image/png": "[encoded data removed]",
      "text/plain": [
       "<Figure size 432x288 with 1 Axes>"
      ]
     },
     "metadata": {},
     "output_type": "display_data"
    }
   ],
   "source": [
    "sns.distplot((y_test-y_pred1),bins=50);"
   ]
  },
  {
   "cell_type": "code",
   "execution_count": 43,
   "metadata": {},
   "outputs": [
    {
     "name": "stdout",
     "output_type": "stream",
     "text": [
      "MAE: 9.82141148119106\n",
      "MSE: 168.11460061294125\n",
      "RMSE: 12.965901457783074\n"
     ]
    },
    {
     "data": {
      "text/plain": [
       "0.9750107419516288"
      ]
     },
     "execution_count": 43,
     "metadata": {},
     "output_type": "execute_result"
    }
   ],
   "source": [
    "# calculate these metrics by hand!\n",
    "from sklearn import metrics\n",
    "\n",
    "print('MAE:', metrics.mean_absolute_error(y_test, y_pred1))\n",
    "print('MSE:', metrics.mean_squared_error(y_test, y_pred1))\n",
    "print('RMSE:', np.sqrt(metrics.mean_squared_error(y_test, y_pred1)))\n",
    "from sklearn.metrics import r2_score\n",
    "r2_score = r2_score(y_test, y_pred1)\n",
    "r2_score"
   ]
  },
  {
   "cell_type": "code",
   "execution_count": 44,
   "metadata": {},
   "outputs": [
    {
     "data": {
      "text/plain": [
       "0.9748088085532581"
      ]
     },
     "execution_count": 44,
     "metadata": {},
     "output_type": "execute_result"
    }
   ],
   "source": [
    "adj_r2 = 1-(1-r2_score)*((len(y)-1)/(len(y)-X.shape[1]-1))\n",
    "adj_r2"
   ]
  },
  {
   "cell_type": "code",
   "execution_count": 45,
   "metadata": {},
   "outputs": [
    {
     "name": "stdout",
     "output_type": "stream",
     "text": [
      "R2_Scores: 98.28 %\n",
      "Standard Deviation: 0.23 %\n"
     ]
    }
   ],
   "source": [
    "#K-Cross Validation\n",
    "from sklearn.model_selection import cross_val_score\n",
    "r2_scores1 = cross_val_score(estimator = regressor1, X = X_train, y = y_train, scoring='r2',cv = 10)\n",
    "print(\"R2_Scores: {:.2f} %\".format(r2_scores1.mean()*100))\n",
    "print(\"Standard Deviation: {:.2f} %\".format(r2_scores1.std()*100))"
   ]
  },
  {
   "cell_type": "code",
   "execution_count": 46,
   "metadata": {},
   "outputs": [],
   "source": [
    "#Decision-Tree Regression Approach"
   ]
  },
  {
   "cell_type": "code",
   "execution_count": 47,
   "metadata": {},
   "outputs": [],
   "source": [
    "y = customers['Yearly Amount Spent'].values\n",
    "X = customers[['Avg. Session Length', 'Time on App','Time on Website', 'Length of Membership']].values\n",
    "from sklearn.model_selection import train_test_split\n",
    "X_train, X_test, y_train, y_test = train_test_split(X, y, test_size=0.2, random_state=0)"
   ]
  },
  {
   "cell_type": "code",
   "execution_count": 48,
   "metadata": {},
   "outputs": [
    {
     "data": {
      "text/plain": [
       "DecisionTreeRegressor(random_state=0)"
      ]
     },
     "execution_count": 48,
     "metadata": {},
     "output_type": "execute_result"
    }
   ],
   "source": [
    "from sklearn.tree import DecisionTreeRegressor\n",
    "regressor2 = DecisionTreeRegressor(random_state = 0)\n",
    "regressor2.fit(X_train, y_train)"
   ]
  },
  {
   "cell_type": "code",
   "execution_count": 49,
   "metadata": {},
   "outputs": [
    {
     "name": "stdout",
     "output_type": "stream",
     "text": [
      "[[407.7  449.07]\n",
      " [469.31 482.6 ]\n",
      " [282.47 374.27]\n",
      " [514.09 513.15]\n",
      " [507.44 502.77]\n",
      " [472.99 461.78]\n",
      " [484.52 466.42]\n",
      " [282.47 327.38]\n",
      " [483.54 528.22]\n",
      " [725.58 657.02]\n",
      " [553.6  571.47]\n",
      " [537.77 523.63]\n",
      " [543.13 546.56]\n",
      " [432.47 467.43]\n",
      " [470.45 439.89]\n",
      " [444.58 445.06]\n",
      " [528.31 553.99]\n",
      " [413.37 403.77]\n",
      " [529.23 595.8 ]\n",
      " [469.31 490.74]\n",
      " [666.13 712.4 ]\n",
      " [518.79 502.09]\n",
      " [422.43 398.16]\n",
      " [561.87 570.45]\n",
      " [521.88 549.86]\n",
      " [392.29 392.99]\n",
      " [436.58 419.94]\n",
      " [357.78 407.66]\n",
      " [547.37 521.14]\n",
      " [443.97 463.75]\n",
      " [571.22 556.3 ]\n",
      " [492.95 506.55]\n",
      " [552.94 514.34]\n",
      " [483.16 476.77]\n",
      " [479.73 418.6 ]\n",
      " [408.96 403.82]\n",
      " [538.94 506.13]\n",
      " [436.28 436.72]\n",
      " [560.44 558.95]\n",
      " [470.45 421.33]\n",
      " [521.2  478.26]\n",
      " [584.11 593.92]\n",
      " [608.27 632.12]\n",
      " [507.21 591.44]\n",
      " [424.73 444.29]\n",
      " [390.1  392.2 ]\n",
      " [529.06 558.43]\n",
      " [436.58 447.19]\n",
      " [537.77 475.73]\n",
      " [434.02 420.74]\n",
      " [469.38 527.78]\n",
      " [422.37 421.97]\n",
      " [570.63 576.03]\n",
      " [479.25 460.06]\n",
      " [426.15 452.63]\n",
      " [473.36 408.64]\n",
      " [616.66 557.25]\n",
      " [357.86 298.76]\n",
      " [592.69 555.07]\n",
      " [492.95 486.08]\n",
      " [510.54 488.79]\n",
      " [461.11 423.31]\n",
      " [497.78 458.78]\n",
      " [551.02 574.42]\n",
      " [510.66 489.91]\n",
      " [407.8  352.55]\n",
      " [493.18 492.61]\n",
      " [376.34 427.36]\n",
      " [619.9  628.05]\n",
      " [463.48 478.72]\n",
      " [508.74 463.92]\n",
      " [663.07 765.52]\n",
      " [530.36 501.12]\n",
      " [479.23 462.66]\n",
      " [407.8  373.89]\n",
      " [436.28 384.33]\n",
      " [589.03 614.73]\n",
      " [503.98 518.06]\n",
      " [512.55 510.5 ]\n",
      " [427.2  432.72]\n",
      " [494.55 473.95]\n",
      " [512.83 501.21]\n",
      " [557.63 535.32]\n",
      " [524.64 496.93]\n",
      " [487.56 442.06]\n",
      " [514.24 505.23]\n",
      " [547.13 544.41]\n",
      " [669.99 744.22]\n",
      " [392.5  392.81]\n",
      " [482.35 522.4 ]\n",
      " [522.34 519.37]\n",
      " [510.66 528.42]\n",
      " [368.65 385.1 ]\n",
      " [432.47 504.87]\n",
      " [475.76 501.1 ]\n",
      " [390.1  385.15]\n",
      " [530.36 520.9 ]\n",
      " [486.16 499.14]\n",
      " [619.9  616.85]\n",
      " [422.37 412.01]]\n"
     ]
    }
   ],
   "source": [
    "y_pred2 = regressor2.predict(X_test)\n",
    "np.set_printoptions(precision=2)\n",
    "print(np.concatenate((y_pred2.reshape(len(y_pred2),1), y_test.reshape(len(y_test),1)),1))"
   ]
  },
  {
   "cell_type": "code",
   "execution_count": 50,
   "metadata": {},
   "outputs": [
    {
     "data": {
      "text/plain": [
       "Text(0, 0.5, 'Predicted Y')"
      ]
     },
     "execution_count": 50,
     "metadata": {},
     "output_type": "execute_result"
    },
    {
     "data": {
      "image/png": "[encoded data removed]",
      "text/plain": [
       "<Figure size 432x288 with 1 Axes>"
      ]
     },
     "metadata": {},
     "output_type": "display_data"
    }
   ],
   "source": [
    "plt.scatter(y_test,y_pred2)\n",
    "plt.xlabel('Y Test')\n",
    "plt.ylabel('Predicted Y')"
   ]
  },
  {
   "cell_type": "code",
   "execution_count": 51,
   "metadata": {},
   "outputs": [
    {
     "name": "stderr",
     "output_type": "stream",
     "text": [
      "/home/nishant/anaconda3/lib/python3.8/site-packages/seaborn/distributions.py:2557: FutureWarning: `distplot` is a deprecated function and will be removed in a future version. Please adapt your code to use either `displot` (a figure-level function with similar flexibility) or `histplot` (an axes-level function for histograms).\n",
      "  warnings.warn(msg, FutureWarning)\n"
     ]
    },
    {
     "data": {
      "image/png": "[encoded data removed]",
      "text/plain": [
       "<Figure size 432x288 with 1 Axes>"
      ]
     },
     "metadata": {},
     "output_type": "display_data"
    }
   ],
   "source": [
    "sns.distplot((y_test-y_pred2),bins=50);"
   ]
  },
  {
   "cell_type": "code",
   "execution_count": 53,
   "metadata": {},
   "outputs": [
    {
     "name": "stdout",
     "output_type": "stream",
     "text": [
      "MAE: 26.892548590834977\n",
      "MSE: 1236.1748298235352\n",
      "RMSE: 35.159278004867154\n"
     ]
    },
    {
     "data": {
      "text/plain": [
       "0.8162497980381623"
      ]
     },
     "execution_count": 53,
     "metadata": {},
     "output_type": "execute_result"
    }
   ],
   "source": [
    "# calculate these metrics by hand!\n",
    "from sklearn import metrics\n",
    "\n",
    "print('MAE:', metrics.mean_absolute_error(y_test, y_pred2))\n",
    "print('MSE:', metrics.mean_squared_error(y_test, y_pred2))\n",
    "print('RMSE:', np.sqrt(metrics.mean_squared_error(y_test, y_pred2)))\n",
    "from sklearn.metrics import r2_score\n",
    "r2_score = r2_score(y_test, y_pred2)\n",
    "r2_score"
   ]
  },
  {
   "cell_type": "code",
   "execution_count": 54,
   "metadata": {},
   "outputs": [
    {
     "data": {
      "text/plain": [
       "0.814764947921299"
      ]
     },
     "execution_count": 54,
     "metadata": {},
     "output_type": "execute_result"
    }
   ],
   "source": [
    "adj_r2 = 1-(1-r2_score)*((len(y)-1)/(len(y)-X.shape[1]-1))\n",
    "adj_r2"
   ]
  },
  {
   "cell_type": "code",
   "execution_count": 55,
   "metadata": {},
   "outputs": [
    {
     "name": "stdout",
     "output_type": "stream",
     "text": [
      "Tuned Decision Tree Parameters: {'min_samples_split': 2, 'min_samples_leaf': 2, 'max_leaf_nodes': 90, 'max_features': 4, 'max_depth': 8, 'criterion': 'mae'}\n",
      "Best score is 0.8466409974698272\n"
     ]
    },
    {
     "name": "stderr",
     "output_type": "stream",
     "text": [
      "/home/nishant/anaconda3/lib/python3.8/site-packages/sklearn/model_selection/_search.py:918: UserWarning: One or more of the test scores are non-finite: [0.83 0.83 0.85 0.72  nan 0.71  nan  nan 0.65 0.79]\n",
      "  warnings.warn(\n"
     ]
    }
   ],
   "source": [
    "#Hyperparameter tuning with Randomized Search CV\n",
    "from scipy.stats import randint \n",
    "from sklearn.tree import DecisionTreeClassifier \n",
    "from sklearn.model_selection import RandomizedSearchCV \n",
    "  \n",
    "# Creating the hyperparameter grid  \n",
    "param_dist = {\"max_depth\": [2, 6, 8,10,12,14], \n",
    "              \"min_samples_split\": [2,4,10,12,16,20,24],\n",
    "              \"max_features\": [2,3,4,5,6],\n",
    "              \"min_samples_leaf\": [2,4,6,8,10,12],\n",
    "              \"max_leaf_nodes\": [10,20,40,60,80,90,100],\n",
    "              \"criterion\": [\"mse\", \"mae\"]} \n",
    "  \n",
    "  \n",
    "# Instantiating RandomizedSearchCV object \n",
    "tree_cv = RandomizedSearchCV(regressor2,param_dist, cv = 10,scoring = \"r2\",n_jobs=-1) \n",
    "  \n",
    "tree_cv.fit(X_train, y_train) \n",
    "  \n",
    "# Print the tuned parameters and score \n",
    "print(\"Tuned Decision Tree Parameters: {}\".format(tree_cv.best_params_)) \n",
    "print(\"Best score is {}\".format(tree_cv.best_score_)) "
   ]
  },
  {
   "cell_type": "code",
   "execution_count": null,
   "metadata": {},
   "outputs": [],
   "source": [
    "#Hyperparameter tuning with GridSearchCV"
   ]
  },
  {
   "cell_type": "code",
   "execution_count": 56,
   "metadata": {},
   "outputs": [
    {
     "name": "stdout",
     "output_type": "stream",
     "text": [
      "Best R2_score: 85.31 %\n",
      "Best Parameters: {'criterion': 'mae', 'max_depth': 12, 'max_features': 4, 'max_leaf_nodes': 90, 'min_samples_leaf': 2, 'min_samples_split': 2}\n"
     ]
    },
    {
     "name": "stderr",
     "output_type": "stream",
     "text": [
      "/home/nishant/anaconda3/lib/python3.8/site-packages/sklearn/model_selection/_search.py:918: UserWarning: One or more of the test scores are non-finite: [0.49 0.49 0.49 ...  nan  nan  nan]\n",
      "  warnings.warn(\n"
     ]
    }
   ],
   "source": [
    "from sklearn.model_selection import GridSearchCV\n",
    "param_grid = {\"max_depth\": [2, 6, 8,10,12,14], \n",
    "              \"min_samples_split\": [2,4,10,12,16,20,24],\n",
    "              \"max_features\": [2,3,4,5,6],\n",
    "              \"min_samples_leaf\": [2,4,6,8,10,12],\n",
    "              \"max_leaf_nodes\": [10,20,40,60,80,90,100],\n",
    "              \"criterion\": [\"mse\", \"mae\"]} \n",
    "\n",
    "grid_search = GridSearchCV(estimator = regressor2,\n",
    "                           param_grid = param_grid,\n",
    "                           scoring = 'r2',\n",
    "                           cv = 10,\n",
    "                           n_jobs = -1)\n",
    "grid_search.fit(X_train, y_train)\n",
    "best_r2_score = grid_search.best_score_\n",
    "best_parameters = grid_search.best_params_\n",
    "print(\"Best R2_score: {:.2f} %\".format(best_r2_score*100))\n",
    "print(\"Best Parameters:\", best_parameters)"
   ]
  },
  {
   "cell_type": "code",
   "execution_count": 57,
   "metadata": {},
   "outputs": [
    {
     "name": "stdout",
     "output_type": "stream",
     "text": [
      "[[444.58 449.07]\n",
      " [507.57 482.6 ]\n",
      " [404.99 374.27]\n",
      " [494.64 513.15]\n",
      " [510.35 502.77]\n",
      " [476.92 461.78]\n",
      " [416.05 466.42]\n",
      " [404.99 327.38]\n",
      " [537.83 528.22]\n",
      " [593.03 657.02]\n",
      " [545.95 571.47]\n",
      " [529.21 523.63]\n",
      " [519.73 546.56]\n",
      " [477.01 467.43]\n",
      " [444.58 439.89]\n",
      " [444.58 445.06]\n",
      " [581.8  553.99]\n",
      " [409.07 403.77]\n",
      " [583.08 595.8 ]\n",
      " [507.57 490.74]\n",
      " [660.43 712.4 ]\n",
      " [529.21 502.09]\n",
      " [432.33 398.16]\n",
      " [573.63 570.45]\n",
      " [520.56 549.86]\n",
      " [396.66 392.99]\n",
      " [444.58 419.94]\n",
      " [381.55 407.66]\n",
      " [552.94 521.14]\n",
      " [492.95 463.75]\n",
      " [564.41 556.3 ]\n",
      " [492.95 506.55]\n",
      " [510.35 514.34]\n",
      " [483.16 476.77]\n",
      " [486.46 418.6 ]\n",
      " [409.07 403.82]\n",
      " [479.23 506.13]\n",
      " [432.33 436.72]\n",
      " [561.32 558.95]\n",
      " [444.58 421.33]\n",
      " [475.6  478.26]\n",
      " [581.8  593.92]\n",
      " [660.43 632.12]\n",
      " [593.12 591.44]\n",
      " [432.33 444.29]\n",
      " [390.1  392.2 ]\n",
      " [578.24 558.43]\n",
      " [477.01 447.19]\n",
      " [492.05 475.73]\n",
      " [408.62 420.74]\n",
      " [493.18 527.78]\n",
      " [409.07 421.97]\n",
      " [545.95 576.03]\n",
      " [479.23 460.06]\n",
      " [432.33 452.63]\n",
      " [475.6  408.64]\n",
      " [495.18 557.25]\n",
      " [275.92 298.76]\n",
      " [552.94 555.07]\n",
      " [492.95 486.08]\n",
      " [517.17 488.79]\n",
      " [456.28 423.31]\n",
      " [496.97 458.78]\n",
      " [561.32 574.42]\n",
      " [526.93 489.91]\n",
      " [275.92 352.55]\n",
      " [477.01 492.61]\n",
      " [444.58 427.36]\n",
      " [660.43 628.05]\n",
      " [476.92 478.72]\n",
      " [456.28 463.92]\n",
      " [660.43 765.52]\n",
      " [503.98 501.12]\n",
      " [479.23 462.66]\n",
      " [404.99 373.89]\n",
      " [332.57 384.33]\n",
      " [589.79 614.73]\n",
      " [503.98 518.06]\n",
      " [519.73 510.5 ]\n",
      " [433.33 432.72]\n",
      " [492.05 473.95]\n",
      " [510.35 501.21]\n",
      " [561.32 535.32]\n",
      " [486.46 496.93]\n",
      " [445.19 442.06]\n",
      " [549.59 505.23]\n",
      " [545.95 544.41]\n",
      " [666.9  744.22]\n",
      " [424.76 392.81]\n",
      " [493.18 522.4 ]\n",
      " [520.56 519.37]\n",
      " [526.93 528.42]\n",
      " [357.59 385.1 ]\n",
      " [477.01 504.87]\n",
      " [502.13 501.1 ]\n",
      " [390.1  385.15]\n",
      " [549.01 520.9 ]\n",
      " [484.98 499.14]\n",
      " [589.79 616.85]\n",
      " [381.55 412.01]]\n"
     ]
    }
   ],
   "source": [
    "#Updated Decision Tree Regressor with best Hyperparameters Selected\n",
    "regressor2_new = DecisionTreeRegressor(random_state = 0,criterion='mae',max_depth=12,max_leaf_nodes=90,min_samples_leaf=2,min_samples_split=2)\n",
    "regressor2_new.fit(X_train, y_train)\n",
    "y_pred2_new = regressor2_new.predict(X_test)\n",
    "np.set_printoptions(precision=2)\n",
    "print(np.concatenate((y_pred2_new.reshape(len(y_pred2_new),1), y_test.reshape(len(y_test),1)),1))"
   ]
  },
  {
   "cell_type": "code",
   "execution_count": 58,
   "metadata": {},
   "outputs": [
    {
     "name": "stdout",
     "output_type": "stream",
     "text": [
      "MAE: 22.48641147460595\n",
      "MSE: 908.9150795793047\n",
      "RMSE: 30.14821851418927\n"
     ]
    },
    {
     "data": {
      "text/plain": [
       "0.8648950573903059"
      ]
     },
     "execution_count": 58,
     "metadata": {},
     "output_type": "execute_result"
    }
   ],
   "source": [
    "# calculate these metrics by hand #Updated Decision Tree Regressor with best Hyperparameters Selected!\n",
    "from sklearn import metrics\n",
    "\n",
    "print('MAE:', metrics.mean_absolute_error(y_test, y_pred2_new))\n",
    "print('MSE:', metrics.mean_squared_error(y_test, y_pred2_new))\n",
    "print('RMSE:', np.sqrt(metrics.mean_squared_error(y_test, y_pred2_new)))\n",
    "from sklearn.metrics import r2_score\n",
    "r2_score = r2_score(y_test, y_pred2_new)\n",
    "r2_score"
   ]
  },
  {
   "cell_type": "code",
   "execution_count": 59,
   "metadata": {},
   "outputs": [
    {
     "data": {
      "text/plain": [
       "0.8638033002783084"
      ]
     },
     "execution_count": 59,
     "metadata": {},
     "output_type": "execute_result"
    }
   ],
   "source": [
    "adj_r2 = 1-(1-r2_score)*((len(y)-1)/(len(y)-X.shape[1]-1))\n",
    "adj_r2"
   ]
  },
  {
   "cell_type": "code",
   "execution_count": null,
   "metadata": {},
   "outputs": [],
   "source": []
  },
  {
   "cell_type": "code",
   "execution_count": 60,
   "metadata": {},
   "outputs": [
    {
     "name": "stdout",
     "output_type": "stream",
     "text": [
      "R2_Scores: 85.31 %\n",
      "Standard Deviation: 4.30 %\n"
     ]
    }
   ],
   "source": [
    "#K-Cross Validation #Updated Decision Tree Regressor with best Hyperparameters Selected\n",
    "from sklearn.model_selection import cross_val_score\n",
    "r2_scores2 = cross_val_score(estimator = regressor2_new, X = X_train, y = y_train, scoring='r2',cv = 10)\n",
    "print(\"R2_Scores: {:.2f} %\".format(r2_scores2.mean()*100))\n",
    "print(\"Standard Deviation: {:.2f} %\".format(r2_scores2.std()*100))"
   ]
  },
  {
   "cell_type": "code",
   "execution_count": null,
   "metadata": {},
   "outputs": [],
   "source": [
    "#Random_Forest Regression"
   ]
  },
  {
   "cell_type": "code",
   "execution_count": 61,
   "metadata": {},
   "outputs": [
    {
     "data": {
      "text/plain": [
       "RandomForestRegressor(n_estimators=50, random_state=0)"
      ]
     },
     "execution_count": 61,
     "metadata": {},
     "output_type": "execute_result"
    }
   ],
   "source": [
    "from sklearn.ensemble import RandomForestRegressor\n",
    "regressor3 = RandomForestRegressor(n_estimators = 50, random_state = 0)\n",
    "regressor3.fit(X_train, y_train)"
   ]
  },
  {
   "cell_type": "code",
   "execution_count": 62,
   "metadata": {},
   "outputs": [
    {
     "name": "stdout",
     "output_type": "stream",
     "text": [
      "[[450.06 449.07]\n",
      " [484.13 482.6 ]\n",
      " [360.82 374.27]\n",
      " [511.59 513.15]\n",
      " [507.46 502.77]\n",
      " [473.97 461.78]\n",
      " [466.3  466.42]\n",
      " [358.53 327.38]\n",
      " [516.88 528.22]\n",
      " [678.65 657.02]\n",
      " [549.47 571.47]\n",
      " [525.7  523.63]\n",
      " [516.98 546.56]\n",
      " [442.03 467.43]\n",
      " [464.68 439.89]\n",
      " [419.76 445.06]\n",
      " [554.89 553.99]\n",
      " [411.66 403.77]\n",
      " [550.29 595.8 ]\n",
      " [486.47 490.74]\n",
      " [657.62 712.4 ]\n",
      " [507.95 502.09]\n",
      " [426.38 398.16]\n",
      " [554.61 570.45]\n",
      " [545.95 549.86]\n",
      " [397.89 392.99]\n",
      " [425.83 419.94]\n",
      " [395.28 407.66]\n",
      " [565.81 521.14]\n",
      " [469.82 463.75]\n",
      " [558.14 556.3 ]\n",
      " [507.52 506.55]\n",
      " [517.52 514.34]\n",
      " [467.23 476.77]\n",
      " [484.75 418.6 ]\n",
      " [402.58 403.82]\n",
      " [505.82 506.13]\n",
      " [432.17 436.72]\n",
      " [568.92 558.95]\n",
      " [439.63 421.33]\n",
      " [512.25 478.26]\n",
      " [582.72 593.92]\n",
      " [606.41 632.12]\n",
      " [574.54 591.44]\n",
      " [432.4  444.29]\n",
      " [388.04 392.2 ]\n",
      " [544.28 558.43]\n",
      " [429.21 447.19]\n",
      " [506.2  475.73]\n",
      " [417.5  420.74]\n",
      " [512.79 527.78]\n",
      " [417.3  421.97]\n",
      " [567.85 576.03]\n",
      " [481.14 460.06]\n",
      " [447.81 452.63]\n",
      " [484.72 408.64]\n",
      " [554.37 557.25]\n",
      " [321.94 298.76]\n",
      " [566.59 555.07]\n",
      " [483.39 486.08]\n",
      " [495.32 488.79]\n",
      " [461.55 423.31]\n",
      " [482.53 458.78]\n",
      " [564.52 574.42]\n",
      " [503.79 489.91]\n",
      " [370.51 352.55]\n",
      " [497.4  492.61]\n",
      " [386.18 427.36]\n",
      " [631.21 628.05]\n",
      " [456.46 478.72]\n",
      " [468.43 463.92]\n",
      " [668.84 765.52]\n",
      " [508.23 501.12]\n",
      " [462.74 462.66]\n",
      " [393.67 373.89]\n",
      " [409.81 384.33]\n",
      " [580.77 614.73]\n",
      " [511.08 518.06]\n",
      " [498.84 510.5 ]\n",
      " [440.04 432.72]\n",
      " [494.76 473.95]\n",
      " [504.08 501.21]\n",
      " [553.3  535.32]\n",
      " [518.78 496.93]\n",
      " [483.8  442.06]\n",
      " [516.08 505.23]\n",
      " [555.02 544.41]\n",
      " [663.25 744.22]\n",
      " [402.9  392.81]\n",
      " [499.42 522.4 ]\n",
      " [521.88 519.37]\n",
      " [510.87 528.42]\n",
      " [369.27 385.1 ]\n",
      " [432.91 504.87]\n",
      " [491.06 501.1 ]\n",
      " [390.76 385.15]\n",
      " [528.02 520.9 ]\n",
      " [492.91 499.14]\n",
      " [596.99 616.85]\n",
      " [409.68 412.01]]\n"
     ]
    }
   ],
   "source": [
    "y_pred3 = regressor3.predict(X_test)\n",
    "np.set_printoptions(precision=2)\n",
    "print(np.concatenate((y_pred3.reshape(len(y_pred3),1), y_test.reshape(len(y_test),1)),1))"
   ]
  },
  {
   "cell_type": "code",
   "execution_count": 63,
   "metadata": {},
   "outputs": [
    {
     "data": {
      "text/plain": [
       "Text(0, 0.5, 'Predicted Y')"
      ]
     },
     "execution_count": 63,
     "metadata": {},
     "output_type": "execute_result"
    },
    {
     "data": {
      "image/png": "[encoded data removed]",
      "text/plain": [
       "<Figure size 432x288 with 1 Axes>"
      ]
     },
     "metadata": {},
     "output_type": "display_data"
    }
   ],
   "source": [
    "plt.scatter(y_test,y_pred3)\n",
    "plt.xlabel('Y Test')\n",
    "plt.ylabel('Predicted Y')"
   ]
  },
  {
   "cell_type": "code",
   "execution_count": 65,
   "metadata": {},
   "outputs": [
    {
     "name": "stdout",
     "output_type": "stream",
     "text": [
      "MAE: 17.19715224746501\n",
      "MSE: 632.4352909562855\n",
      "RMSE: 25.14826616202965\n"
     ]
    },
    {
     "data": {
      "text/plain": [
       "0.905992170656314"
      ]
     },
     "execution_count": 65,
     "metadata": {},
     "output_type": "execute_result"
    }
   ],
   "source": [
    "# calculate these metrics by hand!\n",
    "from sklearn import metrics\n",
    "\n",
    "print('MAE:', metrics.mean_absolute_error(y_test, y_pred3))\n",
    "print('MSE:', metrics.mean_squared_error(y_test, y_pred3))\n",
    "print('RMSE:', np.sqrt(metrics.mean_squared_error(y_test, y_pred3)))\n",
    "from sklearn.metrics import r2_score\n",
    "r2_score = r2_score(y_test, y_pred3)\n",
    "r2_score"
   ]
  },
  {
   "cell_type": "code",
   "execution_count": 66,
   "metadata": {},
   "outputs": [
    {
     "data": {
      "text/plain": [
       "0.9052325114292943"
      ]
     },
     "execution_count": 66,
     "metadata": {},
     "output_type": "execute_result"
    }
   ],
   "source": [
    "adj_r2 = 1-(1-r2_score)*((len(y)-1)/(len(y)-X.shape[1]-1))\n",
    "adj_r2"
   ]
  },
  {
   "cell_type": "code",
   "execution_count": 67,
   "metadata": {},
   "outputs": [
    {
     "name": "stderr",
     "output_type": "stream",
     "text": [
      "/home/nishant/anaconda3/lib/python3.8/site-packages/sklearn/model_selection/_search.py:918: UserWarning: One or more of the test scores are non-finite: [0.91 0.59  nan 0.91 0.49 0.91 0.62  nan  nan  nan]\n",
      "  warnings.warn(\n"
     ]
    },
    {
     "name": "stdout",
     "output_type": "stream",
     "text": [
      "Tuned Random Forest Parameters: {'n_estimators': 30, 'min_samples_split': 4, 'max_features': 'log2', 'max_depth': 8, 'criterion': 'mae', 'bootstrap': False}\n",
      "Best score is 0.9139519601054117\n"
     ]
    }
   ],
   "source": [
    "#Hyperparameter tuning with Randomized Search CV\n",
    "from scipy.stats import randint \n",
    "from sklearn.model_selection import RandomizedSearchCV \n",
    "  \n",
    "# Creating the hyperparameter grid  \n",
    "param_dist1 = {\"n_estimators\": [20,30,50,100],\n",
    "               \"max_features\": ['auto', 'sqrt', 'log2',5,10],\n",
    "               \"min_samples_split\" : [2,4,6,8,10,20],\n",
    "               \"criterion\": [\"mse\", \"mae\"],\n",
    "               \"max_depth\": [2, 6, 8,10,12],\n",
    "               \"bootstrap\": [True, False]} \n",
    "  \n",
    "  \n",
    "# Instantiating RandomizedSearchCV object \n",
    "tree_cv1 = RandomizedSearchCV(regressor3,param_dist1, cv = 10,scoring = \"r2\",n_jobs=-1) \n",
    "  \n",
    "tree_cv1.fit(X_train, y_train) \n",
    "  \n",
    "# Print the tuned parameters and score \n",
    "print(\"Tuned Random Forest Parameters: {}\".format(tree_cv1.best_params_)) \n",
    "print(\"Best score is {}\".format(tree_cv1.best_score_)) "
   ]
  },
  {
   "cell_type": "code",
   "execution_count": null,
   "metadata": {},
   "outputs": [],
   "source": []
  },
  {
   "cell_type": "code",
   "execution_count": null,
   "metadata": {},
   "outputs": [],
   "source": []
  },
  {
   "cell_type": "code",
   "execution_count": 69,
   "metadata": {},
   "outputs": [
    {
     "name": "stdout",
     "output_type": "stream",
     "text": [
      "[[451.49 449.07]\n",
      " [482.81 482.6 ]\n",
      " [383.46 374.27]\n",
      " [518.7  513.15]\n",
      " [512.23 502.77]\n",
      " [491.43 461.78]\n",
      " [455.37 466.42]\n",
      " [372.82 327.38]\n",
      " [527.5  528.22]\n",
      " [630.62 657.02]\n",
      " [568.27 571.47]\n",
      " [522.36 523.63]\n",
      " [517.97 546.56]\n",
      " [447.73 467.43]\n",
      " [458.07 439.89]\n",
      " [427.88 445.06]\n",
      " [569.52 553.99]\n",
      " [417.05 403.77]\n",
      " [559.23 595.8 ]\n",
      " [485.34 490.74]\n",
      " [653.03 712.4 ]\n",
      " [498.03 502.09]\n",
      " [421.32 398.16]\n",
      " [556.96 570.45]\n",
      " [545.   549.86]\n",
      " [402.68 392.99]\n",
      " [438.76 419.94]\n",
      " [387.67 407.66]\n",
      " [560.65 521.14]\n",
      " [472.12 463.75]\n",
      " [559.67 556.3 ]\n",
      " [505.08 506.55]\n",
      " [510.31 514.34]\n",
      " [468.88 476.77]\n",
      " [475.79 418.6 ]\n",
      " [410.13 403.82]\n",
      " [513.7  506.13]\n",
      " [426.94 436.72]\n",
      " [564.4  558.95]\n",
      " [441.1  421.33]\n",
      " [493.05 478.26]\n",
      " [584.65 593.92]\n",
      " [626.8  632.12]\n",
      " [572.97 591.44]\n",
      " [436.98 444.29]\n",
      " [399.67 392.2 ]\n",
      " [524.81 558.43]\n",
      " [452.44 447.19]\n",
      " [499.13 475.73]\n",
      " [424.16 420.74]\n",
      " [504.28 527.78]\n",
      " [418.67 421.97]\n",
      " [564.04 576.03]\n",
      " [485.21 460.06]\n",
      " [437.6  452.63]\n",
      " [454.62 408.64]\n",
      " [554.06 557.25]\n",
      " [317.22 298.76]\n",
      " [570.63 555.07]\n",
      " [494.44 486.08]\n",
      " [506.12 488.79]\n",
      " [465.96 423.31]\n",
      " [496.94 458.78]\n",
      " [564.23 574.42]\n",
      " [500.69 489.91]\n",
      " [358.55 352.55]\n",
      " [495.44 492.61]\n",
      " [438.86 427.36]\n",
      " [621.74 628.05]\n",
      " [462.1  478.72]\n",
      " [478.98 463.92]\n",
      " [651.98 765.52]\n",
      " [502.51 501.12]\n",
      " [483.31 462.66]\n",
      " [405.36 373.89]\n",
      " [406.29 384.33]\n",
      " [591.81 614.73]\n",
      " [524.05 518.06]\n",
      " [505.44 510.5 ]\n",
      " [448.89 432.72]\n",
      " [485.6  473.95]\n",
      " [501.01 501.21]\n",
      " [561.56 535.32]\n",
      " [497.08 496.93]\n",
      " [439.79 442.06]\n",
      " [520.55 505.23]\n",
      " [540.39 544.41]\n",
      " [654.5  744.22]\n",
      " [412.87 392.81]\n",
      " [491.5  522.4 ]\n",
      " [527.08 519.37]\n",
      " [504.63 528.42]\n",
      " [382.48 385.1 ]\n",
      " [479.25 504.87]\n",
      " [498.69 501.1 ]\n",
      " [398.56 385.15]\n",
      " [534.6  520.9 ]\n",
      " [494.98 499.14]\n",
      " [583.35 616.85]\n",
      " [398.73 412.01]]\n"
     ]
    }
   ],
   "source": [
    "#Updated Random Forest Regressor with best Hyperparameters Selected\n",
    "regressor3_new = RandomForestRegressor(n_estimators = 30, random_state = 0,criterion='mae',max_depth=8,max_features='log2',min_samples_split=4,bootstrap=False)\n",
    "regressor3_new.fit(X_train, y_train)\n",
    "y_pred3_new = regressor3_new.predict(X_test)\n",
    "np.set_printoptions(precision=2)\n",
    "print(np.concatenate((y_pred3_new.reshape(len(y_pred3_new),1), y_test.reshape(len(y_test),1)),1))\n",
    "\n"
   ]
  },
  {
   "cell_type": "code",
   "execution_count": 70,
   "metadata": {},
   "outputs": [
    {
     "name": "stdout",
     "output_type": "stream",
     "text": [
      "MAE: 16.792435420526388\n",
      "MSE: 588.0010281930992\n",
      "RMSE: 24.24873250693939\n"
     ]
    },
    {
     "data": {
      "text/plain": [
       "0.9125970654978683"
      ]
     },
     "execution_count": 70,
     "metadata": {},
     "output_type": "execute_result"
    }
   ],
   "source": [
    "# calculate these metrics by hand #Updated Random Forest Regressor with best Hyperparameters Selected!\n",
    "from sklearn import metrics\n",
    "\n",
    "print('MAE:', metrics.mean_absolute_error(y_test, y_pred3_new))\n",
    "print('MSE:', metrics.mean_squared_error(y_test, y_pred3_new))\n",
    "print('RMSE:', np.sqrt(metrics.mean_squared_error(y_test, y_pred3_new)))\n",
    "from sklearn.metrics import r2_score\n",
    "r2_score = r2_score(y_test, y_pred3_new)\n",
    "r2_score"
   ]
  },
  {
   "cell_type": "code",
   "execution_count": 71,
   "metadata": {},
   "outputs": [
    {
     "data": {
      "text/plain": [
       "0.9118907791584572"
      ]
     },
     "execution_count": 71,
     "metadata": {},
     "output_type": "execute_result"
    }
   ],
   "source": [
    "adj_r2 = 1-(1-r2_score)*((len(y)-1)/(len(y)-X.shape[1]-1))\n",
    "adj_r2"
   ]
  },
  {
   "cell_type": "code",
   "execution_count": 72,
   "metadata": {},
   "outputs": [
    {
     "name": "stdout",
     "output_type": "stream",
     "text": [
      "R2_Scores: 91.40 %\n",
      "Standard Deviation: 2.18 %\n"
     ]
    }
   ],
   "source": [
    "#K-Cross Validation #Updated Random Forest Regressor with best Hyperparameters Selected\n",
    "from sklearn.model_selection import cross_val_score\n",
    "r2_scores3 = cross_val_score(estimator = regressor3_new, X = X_train, y = y_train, scoring='r2',cv = 10)\n",
    "print(\"R2_Scores: {:.2f} %\".format(r2_scores3.mean()*100))\n",
    "print(\"Standard Deviation: {:.2f} %\".format(r2_scores3.std()*100))\n"
   ]
  },
  {
   "cell_type": "code",
   "execution_count": 73,
   "metadata": {},
   "outputs": [],
   "source": [
    "### Gradient Boosting Regressor"
   ]
  },
  {
   "cell_type": "code",
   "execution_count": 74,
   "metadata": {},
   "outputs": [],
   "source": [
    "from sklearn.ensemble import GradientBoostingRegressor\n"
   ]
  },
  {
   "cell_type": "code",
   "execution_count": 75,
   "metadata": {},
   "outputs": [
    {
     "data": {
      "text/plain": [
       "GradientBoostingRegressor()"
      ]
     },
     "execution_count": 75,
     "metadata": {},
     "output_type": "execute_result"
    }
   ],
   "source": [
    "regressor4 = GradientBoostingRegressor()\n",
    "regressor4.fit(X_train, y_train)"
   ]
  },
  {
   "cell_type": "code",
   "execution_count": 77,
   "metadata": {},
   "outputs": [
    {
     "name": "stdout",
     "output_type": "stream",
     "text": [
      "[[451.8  449.07]\n",
      " [482.91 482.6 ]\n",
      " [372.39 374.27]\n",
      " [522.96 513.15]\n",
      " [512.42 502.77]\n",
      " [468.17 461.78]\n",
      " [463.59 466.42]\n",
      " [349.11 327.38]\n",
      " [525.66 528.22]\n",
      " [667.52 657.02]\n",
      " [565.37 571.47]\n",
      " [511.8  523.63]\n",
      " [525.31 546.56]\n",
      " [462.91 467.43]\n",
      " [455.4  439.89]\n",
      " [433.82 445.06]\n",
      " [553.16 553.99]\n",
      " [416.11 403.77]\n",
      " [559.61 595.8 ]\n",
      " [491.79 490.74]\n",
      " [688.59 712.4 ]\n",
      " [513.1  502.09]\n",
      " [408.58 398.16]\n",
      " [560.39 570.45]\n",
      " [554.63 549.86]\n",
      " [405.11 392.99]\n",
      " [437.85 419.94]\n",
      " [401.7  407.66]\n",
      " [556.69 521.14]\n",
      " [471.56 463.75]\n",
      " [554.14 556.3 ]\n",
      " [504.55 506.55]\n",
      " [505.41 514.34]\n",
      " [465.88 476.77]\n",
      " [466.01 418.6 ]\n",
      " [393.83 403.82]\n",
      " [494.29 506.13]\n",
      " [420.29 436.72]\n",
      " [567.6  558.95]\n",
      " [424.88 421.33]\n",
      " [510.48 478.26]\n",
      " [594.77 593.92]\n",
      " [615.6  632.12]\n",
      " [577.52 591.44]\n",
      " [432.29 444.29]\n",
      " [389.9  392.2 ]\n",
      " [548.41 558.43]\n",
      " [447.39 447.19]\n",
      " [497.18 475.73]\n",
      " [404.23 420.74]\n",
      " [515.35 527.78]\n",
      " [413.42 421.97]\n",
      " [565.91 576.03]\n",
      " [475.16 460.06]\n",
      " [447.24 452.63]\n",
      " [473.88 408.64]\n",
      " [555.46 557.25]\n",
      " [303.33 298.76]\n",
      " [573.4  555.07]\n",
      " [485.6  486.08]\n",
      " [508.57 488.79]\n",
      " [449.34 423.31]\n",
      " [464.11 458.78]\n",
      " [570.02 574.42]\n",
      " [505.48 489.91]\n",
      " [339.85 352.55]\n",
      " [504.25 492.61]\n",
      " [417.92 427.36]\n",
      " [638.33 628.05]\n",
      " [464.42 478.72]\n",
      " [461.64 463.92]\n",
      " [694.11 765.52]\n",
      " [501.83 501.12]\n",
      " [454.13 462.66]\n",
      " [390.29 373.89]\n",
      " [374.44 384.33]\n",
      " [594.79 614.73]\n",
      " [514.09 518.06]\n",
      " [507.28 510.5 ]\n",
      " [433.91 432.72]\n",
      " [479.99 473.95]\n",
      " [501.14 501.21]\n",
      " [552.08 535.32]\n",
      " [515.66 496.93]\n",
      " [478.15 442.06]\n",
      " [516.46 505.23]\n",
      " [551.04 544.41]\n",
      " [693.65 744.22]\n",
      " [412.55 392.81]\n",
      " [520.59 522.4 ]\n",
      " [517.27 519.37]\n",
      " [513.25 528.42]\n",
      " [383.58 385.1 ]\n",
      " [470.25 504.87]\n",
      " [513.87 501.1 ]\n",
      " [388.43 385.15]\n",
      " [520.6  520.9 ]\n",
      " [501.87 499.14]\n",
      " [602.89 616.85]\n",
      " [400.64 412.01]]\n"
     ]
    }
   ],
   "source": [
    "y_pred4 = regressor4.predict(X_test)\n",
    "np.set_printoptions(precision=2)\n",
    "print(np.concatenate((y_pred4.reshape(len(y_pred4),1), y_test.reshape(len(y_test),1)),1))"
   ]
  },
  {
   "cell_type": "code",
   "execution_count": 78,
   "metadata": {},
   "outputs": [
    {
     "name": "stdout",
     "output_type": "stream",
     "text": [
      "MAE: 12.51010479407404\n",
      "MSE: 318.6723966705519\n",
      "RMSE: 17.85139761112703\n"
     ]
    },
    {
     "data": {
      "text/plain": [
       "0.9526312008340797"
      ]
     },
     "execution_count": 78,
     "metadata": {},
     "output_type": "execute_result"
    }
   ],
   "source": [
    "# calculate these metrics by hand!\n",
    "from sklearn import metrics\n",
    "\n",
    "print('MAE:', metrics.mean_absolute_error(y_test, y_pred4))\n",
    "print('MSE:', metrics.mean_squared_error(y_test, y_pred4))\n",
    "print('RMSE:', np.sqrt(metrics.mean_squared_error(y_test, y_pred4)))\n",
    "from sklearn.metrics import r2_score\n",
    "r2_score = r2_score(y_test, y_pred4)\n",
    "r2_score"
   ]
  },
  {
   "cell_type": "code",
   "execution_count": 79,
   "metadata": {},
   "outputs": [
    {
     "data": {
      "text/plain": [
       "0.9522484226590016"
      ]
     },
     "execution_count": 79,
     "metadata": {},
     "output_type": "execute_result"
    }
   ],
   "source": [
    "adj_r2 = 1-(1-r2_score)*((len(y)-1)/(len(y)-X.shape[1]-1))\n",
    "adj_r2"
   ]
  },
  {
   "cell_type": "code",
   "execution_count": 81,
   "metadata": {},
   "outputs": [
    {
     "name": "stdout",
     "output_type": "stream",
     "text": [
      "Tuned Gradient Boosting Parameters: {'subsample': 0.8, 'n_estimators': 500, 'min_samples_split': 20, 'min_samples_leaf': 3, 'max_features': 'log2', 'max_depth': 4, 'loss': 'ls', 'learning_rate': 0.01}\n",
      "Best score is 0.9586529438442415\n"
     ]
    }
   ],
   "source": [
    "#Hyperparameter tuning with Randomized Search CV\n",
    "from sklearn.model_selection import RandomizedSearchCV \n",
    "param_dist = {'learning_rate':[1,0.50,0.25,0.15,0.1,0.05,0.01,0.005,0.001],\n",
    "           'n_estimators':[50,100,250,500,750,1000,1500],\n",
    "           'max_depth':[2,3,4,5,6,7,8,9,10,12,14,16],\n",
    "           'min_samples_split':[2,4,8,10,20,40,60,100],\n",
    "           'min_samples_leaf':[1,3,5,7,9,10,20],\n",
    "           'max_features':[2,3,4,'auto', 'sqrt', 'log2'],\n",
    "           'subsample':[0.6,0.7,0.75,0.8,0.85,0.9,0.95,1],\n",
    "           'loss' : ['ls', 'lad', 'huber', 'quantile']}\n",
    "\n",
    "# Instantiating RandomizedSearchCV object \n",
    "tree_cv = RandomizedSearchCV(regressor4,param_dist, cv = 10,scoring = \"r2\",n_jobs=-1) \n",
    "\n",
    "tree_cv.fit(X_train, y_train) \n",
    "  \n",
    "# Print the tuned parameters and score \n",
    "print(\"Tuned Gradient Boosting Parameters: {}\".format(tree_cv.best_params_)) \n",
    "print(\"Best score is {}\".format(tree_cv.best_score_))"
   ]
  },
  {
   "cell_type": "code",
   "execution_count": 82,
   "metadata": {},
   "outputs": [
    {
     "data": {
      "text/plain": [
       "GradientBoostingRegressor(learning_rate=0.01, max_depth=4, max_features='log2',\n",
       "                          min_samples_leaf=3, min_samples_split=20,\n",
       "                          n_estimators=500, subsample=0.8)"
      ]
     },
     "execution_count": 82,
     "metadata": {},
     "output_type": "execute_result"
    }
   ],
   "source": [
    "tree_cv.best_estimator_"
   ]
  },
  {
   "cell_type": "code",
   "execution_count": 83,
   "metadata": {},
   "outputs": [
    {
     "data": {
      "text/plain": [
       "GradientBoostingRegressor(learning_rate=0.01, max_depth=4, max_features='log2',\n",
       "                          min_samples_leaf=3, min_samples_split=20,\n",
       "                          n_estimators=500, subsample=0.8)"
      ]
     },
     "execution_count": 83,
     "metadata": {},
     "output_type": "execute_result"
    }
   ],
   "source": [
    "regressor_4_new = GradientBoostingRegressor(learning_rate=0.01, max_depth=4, max_features='log2',\n",
    "                          min_samples_leaf=3, min_samples_split=20,\n",
    "                          n_estimators=500, subsample=0.8)\n",
    "regressor_4_new.fit(X_train, y_train)"
   ]
  },
  {
   "cell_type": "code",
   "execution_count": 84,
   "metadata": {},
   "outputs": [
    {
     "name": "stdout",
     "output_type": "stream",
     "text": [
      "[[447.4  449.07]\n",
      " [481.93 482.6 ]\n",
      " [382.23 374.27]\n",
      " [520.57 513.15]\n",
      " [506.59 502.77]\n",
      " [466.14 461.78]\n",
      " [462.28 466.42]\n",
      " [365.26 327.38]\n",
      " [520.46 528.22]\n",
      " [647.33 657.02]\n",
      " [556.31 571.47]\n",
      " [520.07 523.63]\n",
      " [525.23 546.56]\n",
      " [470.42 467.43]\n",
      " [451.82 439.89]\n",
      " [431.25 445.06]\n",
      " [553.3  553.99]\n",
      " [411.35 403.77]\n",
      " [566.02 595.8 ]\n",
      " [485.18 490.74]\n",
      " [681.43 712.4 ]\n",
      " [506.34 502.09]\n",
      " [418.16 398.16]\n",
      " [555.49 570.45]\n",
      " [551.45 549.86]\n",
      " [409.67 392.99]\n",
      " [437.23 419.94]\n",
      " [402.02 407.66]\n",
      " [557.29 521.14]\n",
      " [472.78 463.75]\n",
      " [548.46 556.3 ]\n",
      " [501.63 506.55]\n",
      " [505.83 514.34]\n",
      " [463.21 476.77]\n",
      " [462.43 418.6 ]\n",
      " [405.21 403.82]\n",
      " [502.21 506.13]\n",
      " [433.2  436.72]\n",
      " [567.06 558.95]\n",
      " [424.03 421.33]\n",
      " [499.11 478.26]\n",
      " [587.92 593.92]\n",
      " [611.15 632.12]\n",
      " [576.52 591.44]\n",
      " [443.23 444.29]\n",
      " [389.35 392.2 ]\n",
      " [549.28 558.43]\n",
      " [448.66 447.19]\n",
      " [501.24 475.73]\n",
      " [410.37 420.74]\n",
      " [512.87 527.78]\n",
      " [418.56 421.97]\n",
      " [569.05 576.03]\n",
      " [469.71 460.06]\n",
      " [449.08 452.63]\n",
      " [454.12 408.64]\n",
      " [547.24 557.25]\n",
      " [313.86 298.76]\n",
      " [563.14 555.07]\n",
      " [484.43 486.08]\n",
      " [503.83 488.79]\n",
      " [453.7  423.31]\n",
      " [471.03 458.78]\n",
      " [567.81 574.42]\n",
      " [501.01 489.91]\n",
      " [364.23 352.55]\n",
      " [500.25 492.61]\n",
      " [416.54 427.36]\n",
      " [636.98 628.05]\n",
      " [462.27 478.72]\n",
      " [461.13 463.92]\n",
      " [691.23 765.52]\n",
      " [494.43 501.12]\n",
      " [459.56 462.66]\n",
      " [398.96 373.89]\n",
      " [386.46 384.33]\n",
      " [593.99 614.73]\n",
      " [512.11 518.06]\n",
      " [507.38 510.5 ]\n",
      " [438.36 432.72]\n",
      " [488.81 473.95]\n",
      " [502.13 501.21]\n",
      " [547.22 535.32]\n",
      " [504.27 496.93]\n",
      " [461.5  442.06]\n",
      " [520.74 505.23]\n",
      " [547.43 544.41]\n",
      " [684.73 744.22]\n",
      " [403.26 392.81]\n",
      " [515.63 522.4 ]\n",
      " [518.1  519.37]\n",
      " [514.29 528.42]\n",
      " [386.02 385.1 ]\n",
      " [471.26 504.87]\n",
      " [503.37 501.1 ]\n",
      " [387.96 385.15]\n",
      " [518.55 520.9 ]\n",
      " [504.22 499.14]\n",
      " [594.68 616.85]\n",
      " [411.8  412.01]]\n"
     ]
    }
   ],
   "source": [
    "y_pred4_new = regressor_4_new.predict(X_test)\n",
    "np.set_printoptions(precision=2)\n",
    "print(np.concatenate((y_pred4_new.reshape(len(y_pred4_new),1), y_test.reshape(len(y_test),1)),1))"
   ]
  },
  {
   "cell_type": "code",
   "execution_count": 85,
   "metadata": {},
   "outputs": [
    {
     "data": {
      "text/plain": [
       "0.9553497543235427"
      ]
     },
     "execution_count": 85,
     "metadata": {},
     "output_type": "execute_result"
    }
   ],
   "source": [
    "from sklearn.metrics import r2_score\n",
    "r2_score = r2_score(y_test, y_pred4_new)\n",
    "r2_score"
   ]
  },
  {
   "cell_type": "code",
   "execution_count": 86,
   "metadata": {},
   "outputs": [
    {
     "data": {
      "text/plain": [
       "0.9549889442574704"
      ]
     },
     "execution_count": 86,
     "metadata": {},
     "output_type": "execute_result"
    }
   ],
   "source": [
    "adj_r2 = 1-(1-r2_score)*((len(y)-1)/(len(y)-X.shape[1]-1))\n",
    "adj_r2"
   ]
  },
  {
   "cell_type": "code",
   "execution_count": 87,
   "metadata": {},
   "outputs": [
    {
     "name": "stdout",
     "output_type": "stream",
     "text": [
      "MAE: 11.995227880605066\n",
      "MSE: 300.38339692348706\n",
      "RMSE: 17.331572257688773\n"
     ]
    }
   ],
   "source": [
    "from sklearn import metrics\n",
    "print('MAE:', metrics.mean_absolute_error(y_test, y_pred4_new))\n",
    "print('MSE:', metrics.mean_squared_error(y_test, y_pred4_new))\n",
    "print('RMSE:', np.sqrt(metrics.mean_squared_error(y_test, y_pred4_new)))"
   ]
  },
  {
   "cell_type": "code",
   "execution_count": 88,
   "metadata": {},
   "outputs": [
    {
     "name": "stdout",
     "output_type": "stream",
     "text": [
      "R2_score: 95.78 %\n",
      "Standard Deviation: 1.23 %\n"
     ]
    }
   ],
   "source": [
    "from sklearn.model_selection import cross_val_score\n",
    "r2_scores = cross_val_score(estimator = regressor_4_new, X = X_train, y = y_train, cv = 10,scoring='r2')\n",
    "print(\"R2_score: {:.2f} %\".format(r2_scores.mean()*100))\n",
    "print(\"Standard Deviation: {:.2f} %\".format(r2_scores.std()*100))"
   ]
  },
  {
   "cell_type": "code",
   "execution_count": null,
   "metadata": {},
   "outputs": [],
   "source": []
  },
  {
   "cell_type": "code",
   "execution_count": null,
   "metadata": {},
   "outputs": [],
   "source": [
    "#Support_Vector_Kernel Regression"
   ]
  },
  {
   "cell_type": "code",
   "execution_count": null,
   "metadata": {},
   "outputs": [],
   "source": [
    "y = customers['Yearly Amount Spent'].values\n",
    "X = customers[['Avg. Session Length', 'Time on App','Time on Website', 'Length of Membership']].values\n",
    "from sklearn.model_selection import train_test_split\n",
    "X_train, X_test, y_train, y_test = train_test_split(X, y, test_size=0.2, random_state=0)"
   ]
  },
  {
   "cell_type": "code",
   "execution_count": null,
   "metadata": {},
   "outputs": [],
   "source": [
    "y = y.reshape(len(y),1)\n",
    "from sklearn.preprocessing import StandardScaler\n",
    "sc_X = StandardScaler()\n",
    "sc_y = StandardScaler()\n"
   ]
  },
  {
   "cell_type": "code",
   "execution_count": null,
   "metadata": {},
   "outputs": [],
   "source": [
    "X_train = sc_X.fit_transform(X_train)"
   ]
  },
  {
   "cell_type": "code",
   "execution_count": null,
   "metadata": {},
   "outputs": [],
   "source": [
    "y_train = y_train.reshape(len(y_train),1)\n",
    "y_train"
   ]
  },
  {
   "cell_type": "code",
   "execution_count": null,
   "metadata": {},
   "outputs": [],
   "source": [
    "y_train = sc_y.fit_transform(y_train)"
   ]
  },
  {
   "cell_type": "code",
   "execution_count": null,
   "metadata": {},
   "outputs": [],
   "source": [
    "from sklearn.svm import SVR\n",
    "regressor4 = SVR(kernel = 'linear')\n",
    "regressor4.fit(X_train, y_train)"
   ]
  },
  {
   "cell_type": "code",
   "execution_count": null,
   "metadata": {},
   "outputs": [],
   "source": [
    "y_pred4 = sc_y.inverse_transform(regressor4.predict(sc_X.transform(X_test)))\n",
    "np.set_printoptions(precision=2)\n",
    "print(np.concatenate((y_pred4.reshape(len(y_pred4),1), y_test.reshape(len(y_test),1)),1))"
   ]
  },
  {
   "cell_type": "code",
   "execution_count": null,
   "metadata": {},
   "outputs": [],
   "source": [
    "plt.scatter(y_test,y_pred4)\n",
    "plt.xlabel('Y Test')\n",
    "plt.ylabel('Predicted Y')"
   ]
  },
  {
   "cell_type": "code",
   "execution_count": null,
   "metadata": {},
   "outputs": [],
   "source": [
    "# calculate these metrics by hand!\n",
    "from sklearn import metrics\n",
    "\n",
    "print('MAE:', metrics.mean_absolute_error(y_test, y_pred4))\n",
    "print('MSE:', metrics.mean_squared_error(y_test, y_pred4))\n",
    "print('RMSE:', np.sqrt(metrics.mean_squared_error(y_test, y_pred4)))\n",
    "from sklearn.metrics import r2_score\n",
    "r2_score(y_test, y_pred4)"
   ]
  },
  {
   "cell_type": "code",
   "execution_count": null,
   "metadata": {},
   "outputs": [],
   "source": [
    "#Hyperparameter tuning with Randomized Search CV\n",
    "from scipy.stats import randint \n",
    "from sklearn.model_selection import RandomizedSearchCV \n",
    "  \n",
    "# Creating the hyperparameter grid  \n",
    "param_dist2 = [{'C': [0.25, 0.5, 0.75, 1], 'kernel': ['linear'],'epsilon':[0.01,0.1,1,10],'degree':[1,2,3,4]},\n",
    "              {'C': [0.25, 0.5, 0.75, 1], 'kernel': ['rbf'], 'gamma': [0.1, 0.2, 0.3, 0.4, 0.5, 0.6, 0.7, 0.8, 0.9],'epsilon':[0.01,0.1,1,10],'degree':[1,2,3,4]}]\n",
    "  \n",
    "# Instantiating RandomizedSearchCV object \n",
    "tree_cv2 = RandomizedSearchCV(regressor4,param_dist2, cv = 10,scoring = \"r2\",n_jobs=-1) \n",
    "  \n",
    "tree_cv2.fit(X_train, y_train) \n",
    "  \n",
    "# Print the tuned parameters and score \n",
    "print(\"Tuned SVR Parameters: {}\".format(tree_cv2.best_params_)) \n",
    "print(\"Best score is {}\".format(tree_cv2.best_score_)) "
   ]
  },
  {
   "cell_type": "code",
   "execution_count": null,
   "metadata": {},
   "outputs": [],
   "source": []
  },
  {
   "cell_type": "code",
   "execution_count": null,
   "metadata": {},
   "outputs": [],
   "source": [
    "#Hyperparameter tuning with GridSearchCV\n",
    "from sklearn.model_selection import GridSearchCV\n",
    "parameters2 = [{'C': [0.25, 0.5, 0.75, 1], 'kernel': ['linear'],'epsilon':[0.01,0.1,1,10],'degree':[1,2,3,4]},\n",
    "              {'C': [0.25, 0.5, 0.75, 1], 'kernel': ['rbf'], 'gamma': [0.1, 0.2, 0.3, 0.4, 0.5, 0.6, 0.7, 0.8, 0.9],'epsilon':[0.01,0.1,1,10],'degree':[1,2,3,4]}]\n",
    "grid_search2 = GridSearchCV(estimator = regressor4,\n",
    "                           param_grid = parameters2,\n",
    "                           scoring = 'r2',\n",
    "                           cv = 10,\n",
    "                           n_jobs = -1)\n",
    "grid_search2.fit(X_train, y_train)\n",
    "best_r21 = grid_search2.best_score_\n",
    "best_parameters2 = grid_search2.best_params_\n",
    "print(\"Best r2_score: {:.2f} %\".format(best_r21*100))\n",
    "print(\"Best Parameters:\", best_parameters2)"
   ]
  },
  {
   "cell_type": "code",
   "execution_count": null,
   "metadata": {},
   "outputs": [],
   "source": [
    "#Updated SVR with hyperparameter tuning\n",
    "regressor4_new = SVR(kernel = 'linear',C=0.5,degree=1,epsilon=0.1)\n",
    "regressor4_new.fit(X_train, y_train)\n",
    "y_pred4_new = sc_y.inverse_transform(regressor4.predict(sc_X.transform(X_test)))\n",
    "# calculate these metrics by hand!\n",
    "from sklearn import metrics\n",
    "\n",
    "print('MAE:', metrics.mean_absolute_error(y_test, y_pred4_new))\n",
    "print('MSE:', metrics.mean_squared_error(y_test, y_pred4_new))\n",
    "print('RMSE:', np.sqrt(metrics.mean_squared_error(y_test, y_pred4_new)))\n",
    "from sklearn.metrics import r2_score\n",
    "r2_score(y_test, y_pred4_new)"
   ]
  },
  {
   "cell_type": "code",
   "execution_count": null,
   "metadata": {},
   "outputs": [],
   "source": [
    "#K-Cross Validation\n",
    "from sklearn.model_selection import cross_val_score\n",
    "r2_scores4 = cross_val_score(estimator = regressor4_new, X = X_train, y = y_train, scoring='r2',cv = 10)\n",
    "print(\"R2_Scores: {:.2f} %\".format(r2_scores4.mean()*100))\n",
    "print(\"Standard Deviation: {:.2f} %\".format(r2_scores4.std()*100))\n"
   ]
  },
  {
   "cell_type": "code",
   "execution_count": null,
   "metadata": {},
   "outputs": [],
   "source": []
  },
  {
   "cell_type": "code",
   "execution_count": null,
   "metadata": {},
   "outputs": [],
   "source": [
    "#XGBoost Regression"
   ]
  },
  {
   "cell_type": "code",
   "execution_count": null,
   "metadata": {},
   "outputs": [],
   "source": [
    "y = customers['Yearly Amount Spent'].values\n",
    "X = customers[['Avg. Session Length', 'Time on App','Time on Website', 'Length of Membership']].values\n",
    "from sklearn.model_selection import train_test_split\n",
    "X_train, X_test, y_train, y_test = train_test_split(X, y, test_size=0.2, random_state=0)"
   ]
  },
  {
   "cell_type": "code",
   "execution_count": null,
   "metadata": {},
   "outputs": [],
   "source": [
    "from xgboost import XGBRegressor\n",
    "regressor5 = XGBRegressor()\n",
    "regressor5.fit(X_train,y_train)"
   ]
  },
  {
   "cell_type": "code",
   "execution_count": null,
   "metadata": {},
   "outputs": [],
   "source": [
    "y_pred5 = regressor5.predict(X_test)\n",
    "np.set_printoptions(precision=2)\n",
    "print(np.concatenate((y_pred5.reshape(len(y_pred5),1), y_test.reshape(len(y_test),1)),1))"
   ]
  },
  {
   "cell_type": "code",
   "execution_count": null,
   "metadata": {},
   "outputs": [],
   "source": [
    "# calculate these metrics by hand!\n",
    "from sklearn import metrics\n",
    "\n",
    "print('MAE:', metrics.mean_absolute_error(y_test, y_pred5))\n",
    "print('MSE:', metrics.mean_squared_error(y_test, y_pred5))\n",
    "print('RMSE:', np.sqrt(metrics.mean_squared_error(y_test, y_pred5)))\n",
    "from sklearn.metrics import r2_score\n",
    "r2_score(y_test, y_pred5)"
   ]
  },
  {
   "cell_type": "code",
   "execution_count": null,
   "metadata": {},
   "outputs": [],
   "source": [
    "#Hyperparameter tuning with Randomized Search CV\n",
    "from scipy.stats import randint \n",
    "from sklearn.model_selection import RandomizedSearchCV \n",
    "  \n",
    "# Creating the hyperparameter grid  \n",
    "param_dist6 = {\"n_estimators\": [10,30,50,100,200],\"min_child_weight\":[1,2,3,4,5],\n",
    "               \"gamma\":[0,0.1,0.2,0.3,0.4,0.5,0.6],\n",
    "            \"max_depth\": [3,4,5,6,7,8,9,10],\n",
    "            'subsample':[i/10.0 for i in range(6,10)],\n",
    "            'colsample_bytree':[i/10.0 for i in range(6,10)],\n",
    "            'reg_alpha':[1e-5, 1e-2, 0.1, 1, 100],\n",
    "              \"learning_rate\":[0.01,0.1,1]} \n",
    "  \n",
    "  \n",
    "# Instantiating RandomizedSearchCV object \n",
    "tree_cv6 = RandomizedSearchCV(regressor5,param_dist6, cv = 10,scoring = \"r2\",n_jobs=-1) \n",
    "  \n",
    "tree_cv6.fit(X_train, y_train) \n",
    "  \n",
    "# Print the tuned parameters and score \n",
    "print(\"Tuned XGboost Parameters: {}\".format(tree_cv6.best_params_)) \n",
    "print(\"Best score is {}\".format(tree_cv6.best_score_)) "
   ]
  },
  {
   "cell_type": "code",
   "execution_count": null,
   "metadata": {},
   "outputs": [],
   "source": []
  },
  {
   "cell_type": "code",
   "execution_count": null,
   "metadata": {},
   "outputs": [],
   "source": [
    "#Updated XGBoost Regressor with best Hyperparameters Selected\n",
    "regressor5_new = XGBRegressor(n_estimators = 100, random_state = 0,max_depth=4,subsample=0.8,reg_alpha=0.1,min_child_weight=5,gamma=0.3,\n",
    "                             colsample_bytree=0.9)\n",
    "regressor5_new.fit(X_train, y_train)\n",
    "y_pred5_new = regressor5_new.predict(X_test)\n",
    "np.set_printoptions(precision=2)\n",
    "print(np.concatenate((y_pred5_new.reshape(len(y_pred5_new),1), y_test.reshape(len(y_test),1)),1))\n",
    "from sklearn import metrics\n",
    "\n",
    "print('MAE:', metrics.mean_absolute_error(y_test, y_pred5_new))\n",
    "print('MSE:', metrics.mean_squared_error(y_test, y_pred5_new))\n",
    "print('RMSE:', np.sqrt(metrics.mean_squared_error(y_test, y_pred5_new)))\n",
    "from sklearn.metrics import r2_score\n",
    "r2_score(y_test, y_pred5_new)"
   ]
  },
  {
   "cell_type": "code",
   "execution_count": null,
   "metadata": {},
   "outputs": [],
   "source": []
  },
  {
   "cell_type": "code",
   "execution_count": null,
   "metadata": {},
   "outputs": [],
   "source": [
    "#K-Cross Validation\n",
    "from sklearn.model_selection import cross_val_score\n",
    "r2_scores4 = cross_val_score(estimator = regressor5_new, X = X_train, y = y_train, scoring='r2',cv = 10)\n",
    "print(\"R2_Scores: {:.2f} %\".format(r2_scores4.mean()*100))\n",
    "print(\"Standard Deviation: {:.2f} %\".format(r2_scores4.std()*100))\n"
   ]
  },
  {
   "cell_type": "code",
   "execution_count": null,
   "metadata": {},
   "outputs": [],
   "source": [
    "#CatBoost Regression"
   ]
  },
  {
   "cell_type": "code",
   "execution_count": null,
   "metadata": {},
   "outputs": [],
   "source": [
    "from catboost import CatBoostRegressor\n",
    "regressor6 = CatBoostRegressor()\n",
    "regressor6.fit(X_train,y_train)"
   ]
  },
  {
   "cell_type": "code",
   "execution_count": null,
   "metadata": {},
   "outputs": [],
   "source": [
    "y_pred6 = regressor6.predict(X_test)\n",
    "np.set_printoptions(precision=2)\n",
    "print(np.concatenate((y_pred6.reshape(len(y_pred6),1), y_test.reshape(len(y_test),1)),1))"
   ]
  },
  {
   "cell_type": "code",
   "execution_count": null,
   "metadata": {},
   "outputs": [],
   "source": [
    "# calculate these metrics by hand!\n",
    "from sklearn import metrics\n",
    "\n",
    "print('MAE:', metrics.mean_absolute_error(y_test, y_pred6))\n",
    "print('MSE:', metrics.mean_squared_error(y_test, y_pred6))\n",
    "print('RMSE:', np.sqrt(metrics.mean_squared_error(y_test, y_pred6)))\n",
    "from sklearn.metrics import r2_score\n",
    "r2_score(y_test, y_pred6)"
   ]
  },
  {
   "cell_type": "code",
   "execution_count": null,
   "metadata": {},
   "outputs": [],
   "source": [
    "#K-Cross Validation\n",
    "from sklearn.model_selection import cross_val_score\n",
    "r2_scores4 = cross_val_score(estimator = regressor6, X = X_train, y = y_train, scoring='r2',cv = 10)\n",
    "print(\"R2_Scores: {:.2f} %\".format(r2_scores4.mean()*100))\n",
    "print(\"Standard Deviation: {:.2f} %\".format(r2_scores4.std()*100))\n"
   ]
  },
  {
   "cell_type": "code",
   "execution_count": null,
   "metadata": {},
   "outputs": [],
   "source": []
  },
  {
   "cell_type": "code",
   "execution_count": null,
   "metadata": {},
   "outputs": [],
   "source": []
  },
  {
   "cell_type": "code",
   "execution_count": null,
   "metadata": {},
   "outputs": [],
   "source": [
    "#ANN\n",
    "import tensorflow as tf"
   ]
  },
  {
   "cell_type": "code",
   "execution_count": null,
   "metadata": {},
   "outputs": [],
   "source": [
    "y = customers['Yearly Amount Spent'].values\n",
    "X = customers[['Avg. Session Length', 'Time on App','Time on Website', 'Length of Membership']].values\n",
    "from sklearn.model_selection import train_test_split\n",
    "X_train, X_test, y_train, y_test = train_test_split(X, y, test_size=0.2, random_state=0)"
   ]
  },
  {
   "cell_type": "code",
   "execution_count": null,
   "metadata": {},
   "outputs": [],
   "source": [
    "from sklearn.preprocessing import StandardScaler\n",
    "sc = StandardScaler()\n",
    "X_train[:,0:] = sc.fit_transform(X_train[:,0:])\n",
    "X_test[:,0:] = sc.transform(X_test[:,0:])"
   ]
  },
  {
   "cell_type": "code",
   "execution_count": null,
   "metadata": {},
   "outputs": [],
   "source": [
    "#pip install -U protobuf==3.9.2\n"
   ]
  },
  {
   "cell_type": "code",
   "execution_count": null,
   "metadata": {},
   "outputs": [],
   "source": [
    "Ann = tf.keras.models.Sequential()\n",
    "Ann.add(tf.keras.layers.Dense(units=6, activation='relu'))\n",
    "Ann.add(tf.keras.layers.Dense(units=6, activation='relu'))\n",
    "Ann.add(tf.keras.layers.Dense(units=1))"
   ]
  },
  {
   "cell_type": "code",
   "execution_count": null,
   "metadata": {},
   "outputs": [],
   "source": []
  },
  {
   "cell_type": "code",
   "execution_count": null,
   "metadata": {},
   "outputs": [],
   "source": [
    "Ann.compile(optimizer = 'adam', loss = 'mean_squared_error')"
   ]
  },
  {
   "cell_type": "code",
   "execution_count": null,
   "metadata": {},
   "outputs": [],
   "source": [
    "from tensorflow.keras.callbacks import EarlyStopping\n",
    "early_stop = EarlyStopping(monitor='val_loss', mode='min', verbose=1, patience=25)\n"
   ]
  },
  {
   "cell_type": "code",
   "execution_count": null,
   "metadata": {},
   "outputs": [],
   "source": [
    "Ann.fit(x=X_train, \n",
    "          y=y_train, \n",
    "          epochs=200,\n",
    "          batch_size = 8,\n",
    "          validation_data=(X_test, y_test),\n",
    "          callbacks=[early_stop]\n",
    "          )"
   ]
  },
  {
   "cell_type": "code",
   "execution_count": null,
   "metadata": {},
   "outputs": [],
   "source": [
    "from tensorflow.keras.models import load_model\n",
    "Ann.save('full_data_project_model.h5') \n",
    "losses = pd.DataFrame(Ann.history.history)\n",
    "losses[['loss','val_loss']].plot()"
   ]
  },
  {
   "cell_type": "code",
   "execution_count": null,
   "metadata": {},
   "outputs": [],
   "source": [
    "y_pred6 = Ann.predict(X_test)\n",
    "np.set_printoptions(precision=2)\n",
    "print(np.concatenate((y_pred6.reshape(len(y_pred6),1), y_test.reshape(len(y_test),1)),1))"
   ]
  },
  {
   "cell_type": "code",
   "execution_count": null,
   "metadata": {},
   "outputs": [],
   "source": []
  },
  {
   "cell_type": "code",
   "execution_count": null,
   "metadata": {},
   "outputs": [],
   "source": [
    "# calculate these metrics by hand!\n",
    "from sklearn import metrics\n",
    "\n",
    "print('MAE:', metrics.mean_absolute_error(y_test, y_pred6))\n",
    "print('MSE:', metrics.mean_squared_error(y_test, y_pred6))\n",
    "print('RMSE:', np.sqrt(metrics.mean_squared_error(y_test, y_pred6)))\n",
    "from sklearn.metrics import r2_score\n",
    "r2_score(y_test, y_pred6)"
   ]
  },
  {
   "cell_type": "code",
   "execution_count": null,
   "metadata": {},
   "outputs": [],
   "source": [
    "from sklearn.model_selection import KFold\n",
    "from tensorflow.keras.models import Sequential\n",
    "from tensorflow.keras.layers import Dense, Activation\n",
    "# Cross-Validate\n",
    "kf = KFold(n_splits=10, shuffle=True) # Use for KFold classification\n",
    "    \n",
    "oos_y = []\n",
    "oos_pred = []\n",
    "R2=[]\n",
    "fold = 0\n",
    "\n",
    "for train, test in kf.split(X_train):\n",
    "    fold+=1\n",
    "    print(f\"Fold #{fold}\")\n",
    "        \n",
    "    x_train = X_train[train]\n",
    "    Y_train = y_train[train]\n",
    "    x_test = X_train[test]\n",
    "    Y_test = y_train[test]\n",
    "    \n",
    "    \n",
    "    ann1 = tf.keras.models.Sequential()\n",
    "    ann1.add(tf.keras.layers.Dense(units=6, activation='relu'))\n",
    "    ann1.add(tf.keras.layers.Dense(units=6, activation='relu'))\n",
    "    ann1.add(tf.keras.layers.Dense(units=1))\n",
    "    ann1.compile(optimizer = 'adam', loss = 'mean_squared_error')\n",
    "    from tensorflow.keras.callbacks import EarlyStopping\n",
    "    early_stop = EarlyStopping(monitor='val_loss', mode='min', verbose=1, patience=25)\n",
    "    history=ann1.fit(x=x_train, \n",
    "          y=Y_train, \n",
    "          epochs=200,\n",
    "          batch_size = 8,\n",
    "          validation_data=(x_test, Y_test),\n",
    "          callbacks=[early_stop]\n",
    "          )\n",
    "    \n",
    "    \n",
    "    pred = ann1.predict(x_test)\n",
    "    \n",
    "    oos_y.append(Y_test)\n",
    "    oos_pred.append(pred)    \n",
    "\n",
    "    # Measure this fold's RMSE\n",
    "    from sklearn.metrics import mean_squared_error\n",
    "    score = np.sqrt(mean_squared_error(Y_test,pred))\n",
    "    print(f\"Fold score (RMSE): {score}\")\n",
    "    from sklearn.metrics import r2_score\n",
    "    r2=r2_score(Y_test,pred)\n",
    "    print(\"Fold score (R2_Score):\",r2)\n",
    "    R2.append(r2)\n",
    "\n",
    "# Build the oos prediction list and calculate the error.\n",
    "oos_y = np.concatenate(oos_y)\n",
    "oos_pred = np.concatenate(oos_pred)\n",
    "score = np.sqrt(mean_squared_error(oos_pred,oos_y))\n",
    "r2 = r2_score(oos_pred,oos_y)\n",
    "print(f\"Final, out of sample score (RMSE): {score}\")   \n",
    "print(f\"Final, out of sample score (R2_Score): \",r2)   \n",
    "\n",
    "# Write the cross-validated prediction (from the last neural network)\n",
    "holdout_pred = ann1.predict(X_test)\n",
    "r2 = r2_score(holdout_pred,y_test)\n",
    "score = np.sqrt(mean_squared_error(holdout_pred,y_test))\n",
    "print(f\"Holdout score (RMSE): {score}\")\n",
    "print(f\"Final, out of sample score (R2_Score): \",r2)   \n"
   ]
  },
  {
   "cell_type": "code",
   "execution_count": null,
   "metadata": {},
   "outputs": [],
   "source": [
    "import matplotlib.pyplot as plt\n",
    "%matplotlib inline\n",
    "plt.plot(history.history['val_loss'])\n",
    "plt.plot(history.history['loss'])\n",
    "\n",
    "plt.title('Validation loss history')\n",
    "plt.ylabel('Loss value')\n",
    "plt.xlabel('No. epoch')\n",
    "plt.show()"
   ]
  },
  {
   "cell_type": "code",
   "execution_count": null,
   "metadata": {},
   "outputs": [],
   "source": [
    "oos_pred"
   ]
  },
  {
   "cell_type": "code",
   "execution_count": null,
   "metadata": {},
   "outputs": [],
   "source": [
    "oos_y"
   ]
  },
  {
   "cell_type": "code",
   "execution_count": null,
   "metadata": {},
   "outputs": [],
   "source": [
    "mean=sum(R2)/len(R2)"
   ]
  },
  {
   "cell_type": "code",
   "execution_count": null,
   "metadata": {},
   "outputs": [],
   "source": [
    "variance = sum([((x - mean) ** 2) for x in R2]) / len(R2) \n",
    "res = variance ** 0.5"
   ]
  },
  {
   "cell_type": "code",
   "execution_count": null,
   "metadata": {},
   "outputs": [],
   "source": [
    "res*100"
   ]
  },
  {
   "cell_type": "code",
   "execution_count": null,
   "metadata": {},
   "outputs": [],
   "source": []
  }
 ],
 "metadata": {
  "kernelspec": {
   "display_name": "Python 3",
   "language": "python",
   "name": "python3"
  },
  "language_info": {
   "codemirror_mode": {
    "name": "ipython",
    "version": 3
   },
   "file_extension": ".py",
   "mimetype": "text/x-python",
   "name": "python",
   "nbconvert_exporter": "python",
   "pygments_lexer": "ipython3",
   "version": "3.8.8"
  }
 },
 "nbformat": 4,
 "nbformat_minor": 1
}
